{
 "cells": [
  {
   "cell_type": "code",
   "execution_count": 70,
   "id": "a9f7daab-c164-40ef-8631-864ea12dc3f6",
   "metadata": {},
   "outputs": [],
   "source": [
    "library(tidyverse);\n",
    "library(readxl);"
   ]
  },
  {
   "cell_type": "markdown",
   "id": "a3b4b810-94b2-43c2-9846-099ebaa4ac76",
   "metadata": {},
   "source": [
    "## 1.2\tImportation et mise en forme "
   ]
  },
  {
   "cell_type": "markdown",
   "id": "fd3487f2-8098-4f47-ba2b-4b475498e794",
   "metadata": {},
   "source": [
    " *   Importer la base de données dans un objet de type data.frame nommé projet"
   ]
  },
  {
   "cell_type": "code",
   "execution_count": 59,
   "id": "79c0afca-1b1d-4f8b-b4ed-fd3c802a2754",
   "metadata": {},
   "outputs": [],
   "source": [
    "projet <- read_excel(\"../data/Base_Projet.xlsx\")"
   ]
  },
  {
   "cell_type": "code",
   "execution_count": 60,
   "id": "8f4d6fc7-881a-4161-8067-261a940d8ec7",
   "metadata": {},
   "outputs": [
    {
     "data": {
      "text/html": [
       "<table class=\"dataframe\">\n",
       "<caption>A tibble: 2 × 33</caption>\n",
       "<thead>\n",
       "\t<tr><th scope=col>key</th><th scope=col>q1</th><th scope=col>q2</th><th scope=col>q23</th><th scope=col>q24</th><th scope=col>q24a_1</th><th scope=col>q24a_2</th><th scope=col>q24a_3</th><th scope=col>q24a_4</th><th scope=col>q24a_5</th><th scope=col>⋯</th><th scope=col>filiere_2</th><th scope=col>filiere_3</th><th scope=col>filiere_4</th><th scope=col>q8</th><th scope=col>q81</th><th scope=col>gps_menlatitude</th><th scope=col>gps_menlongitude</th><th scope=col>submissiondate</th><th scope=col>start</th><th scope=col>today</th></tr>\n",
       "\t<tr><th scope=col>&lt;chr&gt;</th><th scope=col>&lt;chr&gt;</th><th scope=col>&lt;chr&gt;</th><th scope=col>&lt;chr&gt;</th><th scope=col>&lt;dbl&gt;</th><th scope=col>&lt;dbl&gt;</th><th scope=col>&lt;dbl&gt;</th><th scope=col>&lt;dbl&gt;</th><th scope=col>&lt;dbl&gt;</th><th scope=col>&lt;dbl&gt;</th><th scope=col>⋯</th><th scope=col>&lt;dbl&gt;</th><th scope=col>&lt;dbl&gt;</th><th scope=col>&lt;dbl&gt;</th><th scope=col>&lt;chr&gt;</th><th scope=col>&lt;chr&gt;</th><th scope=col>&lt;dbl&gt;</th><th scope=col>&lt;dbl&gt;</th><th scope=col>&lt;dttm&gt;</th><th scope=col>&lt;dttm&gt;</th><th scope=col>&lt;dttm&gt;</th></tr>\n",
       "</thead>\n",
       "<tbody>\n",
       "\t<tr><td>uuid:68bff42b-1228-4c66-9bcc-e6d312d9fea6</td><td>Diourbel</td><td>Bambey</td><td>Femme</td><td>65</td><td>0</td><td>1</td><td>0</td><td>1</td><td>0</td><td>⋯</td><td>0</td><td>0</td><td>0</td><td>Aucun                          </td><td>Propriétaire</td><td>14.62691</td><td>-16.46786</td><td>2021-06-14 20:04:38</td><td>2021-06-14 15:38:19</td><td>2021-06-14</td></tr>\n",
       "\t<tr><td>uuid:d70b3c7e-3ca0-4358-bc59-3f7f6baf55e9</td><td>Thiès   </td><td>Mbour </td><td>Femme</td><td>52</td><td>1</td><td>1</td><td>0</td><td>0</td><td>1</td><td>⋯</td><td>0</td><td>1</td><td>0</td><td>Tansformation d'autres céréales</td><td>Propriétaire</td><td>14.39973</td><td>-16.95614</td><td>2021-06-07 21:58:11</td><td>2021-06-03 19:55:41</td><td>2021-06-03</td></tr>\n",
       "</tbody>\n",
       "</table>\n"
      ],
      "text/latex": [
       "A tibble: 2 × 33\n",
       "\\begin{tabular}{lllllllllllllllllllll}\n",
       " key & q1 & q2 & q23 & q24 & q24a\\_1 & q24a\\_2 & q24a\\_3 & q24a\\_4 & q24a\\_5 & ⋯ & filiere\\_2 & filiere\\_3 & filiere\\_4 & q8 & q81 & gps\\_menlatitude & gps\\_menlongitude & submissiondate & start & today\\\\\n",
       " <chr> & <chr> & <chr> & <chr> & <dbl> & <dbl> & <dbl> & <dbl> & <dbl> & <dbl> & ⋯ & <dbl> & <dbl> & <dbl> & <chr> & <chr> & <dbl> & <dbl> & <dttm> & <dttm> & <dttm>\\\\\n",
       "\\hline\n",
       "\t uuid:68bff42b-1228-4c66-9bcc-e6d312d9fea6 & Diourbel & Bambey & Femme & 65 & 0 & 1 & 0 & 1 & 0 & ⋯ & 0 & 0 & 0 & Aucun                           & Propriétaire & 14.62691 & -16.46786 & 2021-06-14 20:04:38 & 2021-06-14 15:38:19 & 2021-06-14\\\\\n",
       "\t uuid:d70b3c7e-3ca0-4358-bc59-3f7f6baf55e9 & Thiès    & Mbour  & Femme & 52 & 1 & 1 & 0 & 0 & 1 & ⋯ & 0 & 1 & 0 & Tansformation d'autres céréales & Propriétaire & 14.39973 & -16.95614 & 2021-06-07 21:58:11 & 2021-06-03 19:55:41 & 2021-06-03\\\\\n",
       "\\end{tabular}\n"
      ],
      "text/markdown": [
       "\n",
       "A tibble: 2 × 33\n",
       "\n",
       "| key &lt;chr&gt; | q1 &lt;chr&gt; | q2 &lt;chr&gt; | q23 &lt;chr&gt; | q24 &lt;dbl&gt; | q24a_1 &lt;dbl&gt; | q24a_2 &lt;dbl&gt; | q24a_3 &lt;dbl&gt; | q24a_4 &lt;dbl&gt; | q24a_5 &lt;dbl&gt; | ⋯ ⋯ | filiere_2 &lt;dbl&gt; | filiere_3 &lt;dbl&gt; | filiere_4 &lt;dbl&gt; | q8 &lt;chr&gt; | q81 &lt;chr&gt; | gps_menlatitude &lt;dbl&gt; | gps_menlongitude &lt;dbl&gt; | submissiondate &lt;dttm&gt; | start &lt;dttm&gt; | today &lt;dttm&gt; |\n",
       "|---|---|---|---|---|---|---|---|---|---|---|---|---|---|---|---|---|---|---|---|---|\n",
       "| uuid:68bff42b-1228-4c66-9bcc-e6d312d9fea6 | Diourbel | Bambey | Femme | 65 | 0 | 1 | 0 | 1 | 0 | ⋯ | 0 | 0 | 0 | Aucun                           | Propriétaire | 14.62691 | -16.46786 | 2021-06-14 20:04:38 | 2021-06-14 15:38:19 | 2021-06-14 |\n",
       "| uuid:d70b3c7e-3ca0-4358-bc59-3f7f6baf55e9 | Thiès    | Mbour  | Femme | 52 | 1 | 1 | 0 | 0 | 1 | ⋯ | 0 | 1 | 0 | Tansformation d'autres céréales | Propriétaire | 14.39973 | -16.95614 | 2021-06-07 21:58:11 | 2021-06-03 19:55:41 | 2021-06-03 |\n",
       "\n"
      ],
      "text/plain": [
       "  key                                       q1       q2     q23   q24 q24a_1\n",
       "1 uuid:68bff42b-1228-4c66-9bcc-e6d312d9fea6 Diourbel Bambey Femme 65  0     \n",
       "2 uuid:d70b3c7e-3ca0-4358-bc59-3f7f6baf55e9 Thiès    Mbour  Femme 52  1     \n",
       "  q24a_2 q24a_3 q24a_4 q24a_5 ⋯ filiere_2 filiere_3 filiere_4\n",
       "1 1      0      1      0      ⋯ 0         0         0        \n",
       "2 1      0      0      1      ⋯ 0         1         0        \n",
       "  q8                              q81          gps_menlatitude gps_menlongitude\n",
       "1 Aucun                           Propriétaire 14.62691        -16.46786       \n",
       "2 Tansformation d'autres céréales Propriétaire 14.39973        -16.95614       \n",
       "  submissiondate      start               today     \n",
       "1 2021-06-14 20:04:38 2021-06-14 15:38:19 2021-06-14\n",
       "2 2021-06-07 21:58:11 2021-06-03 19:55:41 2021-06-03"
      ]
     },
     "metadata": {},
     "output_type": "display_data"
    }
   ],
   "source": [
    "head(projet,2) # Petite aperçu de la base de donnée "
   ]
  },
  {
   "cell_type": "markdown",
   "id": "34365938-3879-4c86-bfcc-fd2e22ccbc44",
   "metadata": {},
   "source": [
    "* Donner le nombre de lignes (i.e. le nombre de PME) et colonnes (i.e. nombre de variables) de la base\n",
    "projet\n"
   ]
  },
  {
   "cell_type": "code",
   "execution_count": 61,
   "id": "a871d6ce-e9d2-4a2d-b105-05a7614bbfc7",
   "metadata": {
    "tags": []
   },
   "outputs": [
    {
     "data": {
      "text/html": [
       "<span style=white-space:pre-wrap>'Nombre de ligne  de la base : 250'</span>"
      ],
      "text/latex": [
       "'Nombre de ligne  de la base : 250'"
      ],
      "text/markdown": [
       "<span style=white-space:pre-wrap>'Nombre de ligne  de la base : 250'</span>"
      ],
      "text/plain": [
       "[1] \"Nombre de ligne  de la base : 250\""
      ]
     },
     "metadata": {},
     "output_type": "display_data"
    }
   ],
   "source": [
    "paste0(\"Nombre de ligne  de la base : \",nrow(projet))"
   ]
  },
  {
   "cell_type": "code",
   "execution_count": 62,
   "id": "157e8524-0b0c-447b-b940-63f8d7eb7e51",
   "metadata": {
    "tags": []
   },
   "outputs": [
    {
     "data": {
      "text/html": [
       "'Nombre de colonne de la base : 33'"
      ],
      "text/latex": [
       "'Nombre de colonne de la base : 33'"
      ],
      "text/markdown": [
       "'Nombre de colonne de la base : 33'"
      ],
      "text/plain": [
       "[1] \"Nombre de colonne de la base : 33\""
      ]
     },
     "metadata": {},
     "output_type": "display_data"
    }
   ],
   "source": [
    "paste0(\"Nombre de colonne de la base : \",ncol(projet))"
   ]
  },
  {
   "cell_type": "markdown",
   "id": "65c941a3-720d-48c4-9569-60dcd06bea90",
   "metadata": {},
   "source": [
    "* Vérifier s’il y a des valeurs manquantes pour la variable key dans la base projet. Si oui, identifier la (ou les) PME concernée(s)."
   ]
  },
  {
   "cell_type": "code",
   "execution_count": 63,
   "id": "230b2340-55b8-49e7-b06c-fab98e7268a6",
   "metadata": {
    "tags": []
   },
   "outputs": [
    {
     "data": {
      "text/html": [
       "FALSE"
      ],
      "text/latex": [
       "FALSE"
      ],
      "text/markdown": [
       "FALSE"
      ],
      "text/plain": [
       "[1] FALSE"
      ]
     },
     "metadata": {},
     "output_type": "display_data"
    }
   ],
   "source": [
    "any(is.na(projet$key)) # y a t-il au moins une valeur manquante ?"
   ]
  },
  {
   "cell_type": "code",
   "execution_count": 64,
   "id": "3bff3c84-bffb-4027-a66b-9f346a0ebc76",
   "metadata": {
    "tags": []
   },
   "outputs": [],
   "source": [
    "# Pas de valeur manquantes dans la variable key"
   ]
  },
  {
   "cell_type": "markdown",
   "id": "5e3af350-b380-4412-a005-36553f69d85c",
   "metadata": {},
   "source": [
    "## 1.3\tCréation de variables (2.5 pts)"
   ]
  },
  {
   "cell_type": "markdown",
   "id": "80e0d452-174d-407c-972d-5358b4eb9388",
   "metadata": {},
   "source": [
    "* Rénommer la variable q1 en region\n",
    "* Rénommer la variable q2 en departement\n",
    "* Rénommer la variable q23 en sexe\n"
   ]
  },
  {
   "cell_type": "code",
   "execution_count": 65,
   "id": "30671ded-7ec2-4943-b931-2c2518e53e44",
   "metadata": {
    "tags": []
   },
   "outputs": [],
   "source": [
    "projet<-projet%>%rename(region=q1,departement=q2,sexe=q23)"
   ]
  },
  {
   "cell_type": "code",
   "execution_count": 66,
   "id": "74f2cc85-3d76-4f78-87b9-82675d2f314e",
   "metadata": {
    "tags": []
   },
   "outputs": [
    {
     "data": {
      "text/html": [
       "<table class=\"dataframe\">\n",
       "<caption>A tibble: 1 × 33</caption>\n",
       "<thead>\n",
       "\t<tr><th scope=col>key</th><th scope=col>region</th><th scope=col>departement</th><th scope=col>sexe</th><th scope=col>q24</th><th scope=col>q24a_1</th><th scope=col>q24a_2</th><th scope=col>q24a_3</th><th scope=col>q24a_4</th><th scope=col>q24a_5</th><th scope=col>⋯</th><th scope=col>filiere_2</th><th scope=col>filiere_3</th><th scope=col>filiere_4</th><th scope=col>q8</th><th scope=col>q81</th><th scope=col>gps_menlatitude</th><th scope=col>gps_menlongitude</th><th scope=col>submissiondate</th><th scope=col>start</th><th scope=col>today</th></tr>\n",
       "\t<tr><th scope=col>&lt;chr&gt;</th><th scope=col>&lt;chr&gt;</th><th scope=col>&lt;chr&gt;</th><th scope=col>&lt;chr&gt;</th><th scope=col>&lt;dbl&gt;</th><th scope=col>&lt;dbl&gt;</th><th scope=col>&lt;dbl&gt;</th><th scope=col>&lt;dbl&gt;</th><th scope=col>&lt;dbl&gt;</th><th scope=col>&lt;dbl&gt;</th><th scope=col>⋯</th><th scope=col>&lt;dbl&gt;</th><th scope=col>&lt;dbl&gt;</th><th scope=col>&lt;dbl&gt;</th><th scope=col>&lt;chr&gt;</th><th scope=col>&lt;chr&gt;</th><th scope=col>&lt;dbl&gt;</th><th scope=col>&lt;dbl&gt;</th><th scope=col>&lt;dttm&gt;</th><th scope=col>&lt;dttm&gt;</th><th scope=col>&lt;dttm&gt;</th></tr>\n",
       "</thead>\n",
       "<tbody>\n",
       "\t<tr><td>uuid:68bff42b-1228-4c66-9bcc-e6d312d9fea6</td><td>Diourbel</td><td>Bambey</td><td>Femme</td><td>65</td><td>0</td><td>1</td><td>0</td><td>1</td><td>0</td><td>⋯</td><td>0</td><td>0</td><td>0</td><td>Aucun</td><td>Propriétaire</td><td>14.62691</td><td>-16.46786</td><td>2021-06-14 20:04:38</td><td>2021-06-14 15:38:19</td><td>2021-06-14</td></tr>\n",
       "</tbody>\n",
       "</table>\n"
      ],
      "text/latex": [
       "A tibble: 1 × 33\n",
       "\\begin{tabular}{lllllllllllllllllllll}\n",
       " key & region & departement & sexe & q24 & q24a\\_1 & q24a\\_2 & q24a\\_3 & q24a\\_4 & q24a\\_5 & ⋯ & filiere\\_2 & filiere\\_3 & filiere\\_4 & q8 & q81 & gps\\_menlatitude & gps\\_menlongitude & submissiondate & start & today\\\\\n",
       " <chr> & <chr> & <chr> & <chr> & <dbl> & <dbl> & <dbl> & <dbl> & <dbl> & <dbl> & ⋯ & <dbl> & <dbl> & <dbl> & <chr> & <chr> & <dbl> & <dbl> & <dttm> & <dttm> & <dttm>\\\\\n",
       "\\hline\n",
       "\t uuid:68bff42b-1228-4c66-9bcc-e6d312d9fea6 & Diourbel & Bambey & Femme & 65 & 0 & 1 & 0 & 1 & 0 & ⋯ & 0 & 0 & 0 & Aucun & Propriétaire & 14.62691 & -16.46786 & 2021-06-14 20:04:38 & 2021-06-14 15:38:19 & 2021-06-14\\\\\n",
       "\\end{tabular}\n"
      ],
      "text/markdown": [
       "\n",
       "A tibble: 1 × 33\n",
       "\n",
       "| key &lt;chr&gt; | region &lt;chr&gt; | departement &lt;chr&gt; | sexe &lt;chr&gt; | q24 &lt;dbl&gt; | q24a_1 &lt;dbl&gt; | q24a_2 &lt;dbl&gt; | q24a_3 &lt;dbl&gt; | q24a_4 &lt;dbl&gt; | q24a_5 &lt;dbl&gt; | ⋯ ⋯ | filiere_2 &lt;dbl&gt; | filiere_3 &lt;dbl&gt; | filiere_4 &lt;dbl&gt; | q8 &lt;chr&gt; | q81 &lt;chr&gt; | gps_menlatitude &lt;dbl&gt; | gps_menlongitude &lt;dbl&gt; | submissiondate &lt;dttm&gt; | start &lt;dttm&gt; | today &lt;dttm&gt; |\n",
       "|---|---|---|---|---|---|---|---|---|---|---|---|---|---|---|---|---|---|---|---|---|\n",
       "| uuid:68bff42b-1228-4c66-9bcc-e6d312d9fea6 | Diourbel | Bambey | Femme | 65 | 0 | 1 | 0 | 1 | 0 | ⋯ | 0 | 0 | 0 | Aucun | Propriétaire | 14.62691 | -16.46786 | 2021-06-14 20:04:38 | 2021-06-14 15:38:19 | 2021-06-14 |\n",
       "\n"
      ],
      "text/plain": [
       "  key                                       region   departement sexe  q24\n",
       "1 uuid:68bff42b-1228-4c66-9bcc-e6d312d9fea6 Diourbel Bambey      Femme 65 \n",
       "  q24a_1 q24a_2 q24a_3 q24a_4 q24a_5 ⋯ filiere_2 filiere_3 filiere_4 q8   \n",
       "1 0      1      0      1      0      ⋯ 0         0         0         Aucun\n",
       "  q81          gps_menlatitude gps_menlongitude submissiondate     \n",
       "1 Propriétaire 14.62691        -16.46786        2021-06-14 20:04:38\n",
       "  start               today     \n",
       "1 2021-06-14 15:38:19 2021-06-14"
      ]
     },
     "metadata": {},
     "output_type": "display_data"
    }
   ],
   "source": [
    "head(projet,1)"
   ]
  },
  {
   "cell_type": "markdown",
   "id": "5ade9682-f0f3-4189-8780-bb83eca868b7",
   "metadata": {},
   "source": [
    " * Créer la variable sexe_2 qui vaut 1 si sexe égale à Femme et 0 sinon"
   ]
  },
  {
   "cell_type": "code",
   "execution_count": 67,
   "id": "1c04c657-71a4-4c53-aec4-bf2cc033b51f",
   "metadata": {
    "tags": []
   },
   "outputs": [
    {
     "data": {
      "text/html": [
       "'character'"
      ],
      "text/latex": [
       "'character'"
      ],
      "text/markdown": [
       "'character'"
      ],
      "text/plain": [
       "[1] \"character\""
      ]
     },
     "metadata": {},
     "output_type": "display_data"
    }
   ],
   "source": [
    "class(projet$sexe)  # Un string, donc la casse interviens"
   ]
  },
  {
   "cell_type": "code",
   "execution_count": 75,
   "id": "696ddcc4-6597-45e3-b28b-54c82d519738",
   "metadata": {
    "tags": []
   },
   "outputs": [],
   "source": [
    "projet<-projet%>%mutate(sexe_2=as.integer(tolower(sexe)==\"femme\"))\n",
    "# tolower pour normaliser la casse\n",
    "# on se sert de l'egalite TRUE==1 pour la conversion en integer"
   ]
  },
  {
   "cell_type": "code",
   "execution_count": 74,
   "id": "53d8d30f-d393-4864-90c2-8fa6d4cf3aa8",
   "metadata": {
    "tags": []
   },
   "outputs": [
    {
     "data": {
      "text/plain": [
       "[250 obs.] \n",
       "integer: 1 1 1 1 0 1 1 0 1 0 ...\n",
       "min: 0 - max: 1 - NAs: 0 (0%) - 2 unique values\n",
       "\n",
       "        n     %\n",
       "0      59  23.6\n",
       "1     191  76.4\n",
       "Total 250 100.0"
      ]
     },
     "metadata": {},
     "output_type": "display_data"
    }
   ],
   "source": [
    "describe(projet$sexe_2)"
   ]
  },
  {
   "cell_type": "markdown",
   "id": "fcfb83d1-f3d9-4464-9341-3f8f4cd6d022",
   "metadata": {},
   "source": [
    "* Créer un data.frame nommé langues qui prend les variables key et les variables correspondantes décrites plus haut."
   ]
  },
  {
   "cell_type": "code",
   "execution_count": 77,
   "id": "12a3428a-c190-4e25-ac55-4042ad21540e",
   "metadata": {
    "tags": []
   },
   "outputs": [
    {
     "data": {
      "text/html": [
       "<style>\n",
       ".list-inline {list-style: none; margin:0; padding: 0}\n",
       ".list-inline>li {display: inline-block}\n",
       ".list-inline>li:not(:last-child)::after {content: \"\\00b7\"; padding: 0 .5ex}\n",
       "</style>\n",
       "<ol class=list-inline><li>'key'</li><li>'region'</li><li>'departement'</li><li>'sexe'</li><li>'q24'</li><li>'q24a_1'</li><li>'q24a_2'</li><li>'q24a_3'</li><li>'q24a_4'</li><li>'q24a_5'</li><li>'q24a_6'</li><li>'q24a_7'</li><li>'q24a_9'</li><li>'q24a_10'</li><li>'q25'</li><li>'q26'</li><li>'q12'</li><li>'q14b'</li><li>'q16'</li><li>'q17'</li><li>'q19'</li><li>'q20'</li><li>'filiere_1'</li><li>'filiere_2'</li><li>'filiere_3'</li><li>'filiere_4'</li><li>'q8'</li><li>'q81'</li><li>'gps_menlatitude'</li><li>'gps_menlongitude'</li><li>'submissiondate'</li><li>'start'</li><li>'today'</li><li>'sexe_2'</li></ol>\n"
      ],
      "text/latex": [
       "\\begin{enumerate*}\n",
       "\\item 'key'\n",
       "\\item 'region'\n",
       "\\item 'departement'\n",
       "\\item 'sexe'\n",
       "\\item 'q24'\n",
       "\\item 'q24a\\_1'\n",
       "\\item 'q24a\\_2'\n",
       "\\item 'q24a\\_3'\n",
       "\\item 'q24a\\_4'\n",
       "\\item 'q24a\\_5'\n",
       "\\item 'q24a\\_6'\n",
       "\\item 'q24a\\_7'\n",
       "\\item 'q24a\\_9'\n",
       "\\item 'q24a\\_10'\n",
       "\\item 'q25'\n",
       "\\item 'q26'\n",
       "\\item 'q12'\n",
       "\\item 'q14b'\n",
       "\\item 'q16'\n",
       "\\item 'q17'\n",
       "\\item 'q19'\n",
       "\\item 'q20'\n",
       "\\item 'filiere\\_1'\n",
       "\\item 'filiere\\_2'\n",
       "\\item 'filiere\\_3'\n",
       "\\item 'filiere\\_4'\n",
       "\\item 'q8'\n",
       "\\item 'q81'\n",
       "\\item 'gps\\_menlatitude'\n",
       "\\item 'gps\\_menlongitude'\n",
       "\\item 'submissiondate'\n",
       "\\item 'start'\n",
       "\\item 'today'\n",
       "\\item 'sexe\\_2'\n",
       "\\end{enumerate*}\n"
      ],
      "text/markdown": [
       "1. 'key'\n",
       "2. 'region'\n",
       "3. 'departement'\n",
       "4. 'sexe'\n",
       "5. 'q24'\n",
       "6. 'q24a_1'\n",
       "7. 'q24a_2'\n",
       "8. 'q24a_3'\n",
       "9. 'q24a_4'\n",
       "10. 'q24a_5'\n",
       "11. 'q24a_6'\n",
       "12. 'q24a_7'\n",
       "13. 'q24a_9'\n",
       "14. 'q24a_10'\n",
       "15. 'q25'\n",
       "16. 'q26'\n",
       "17. 'q12'\n",
       "18. 'q14b'\n",
       "19. 'q16'\n",
       "20. 'q17'\n",
       "21. 'q19'\n",
       "22. 'q20'\n",
       "23. 'filiere_1'\n",
       "24. 'filiere_2'\n",
       "25. 'filiere_3'\n",
       "26. 'filiere_4'\n",
       "27. 'q8'\n",
       "28. 'q81'\n",
       "29. 'gps_menlatitude'\n",
       "30. 'gps_menlongitude'\n",
       "31. 'submissiondate'\n",
       "32. 'start'\n",
       "33. 'today'\n",
       "34. 'sexe_2'\n",
       "\n",
       "\n"
      ],
      "text/plain": [
       " [1] \"key\"              \"region\"           \"departement\"      \"sexe\"            \n",
       " [5] \"q24\"              \"q24a_1\"           \"q24a_2\"           \"q24a_3\"          \n",
       " [9] \"q24a_4\"           \"q24a_5\"           \"q24a_6\"           \"q24a_7\"          \n",
       "[13] \"q24a_9\"           \"q24a_10\"          \"q25\"              \"q26\"             \n",
       "[17] \"q12\"              \"q14b\"             \"q16\"              \"q17\"             \n",
       "[21] \"q19\"              \"q20\"              \"filiere_1\"        \"filiere_2\"       \n",
       "[25] \"filiere_3\"        \"filiere_4\"        \"q8\"               \"q81\"             \n",
       "[29] \"gps_menlatitude\"  \"gps_menlongitude\" \"submissiondate\"   \"start\"           \n",
       "[33] \"today\"            \"sexe_2\"          "
      ]
     },
     "metadata": {},
     "output_type": "display_data"
    }
   ],
   "source": [
    "# Regardons la maniere dont est ordonne nos variables\n",
    "names(projet)"
   ]
  },
  {
   "cell_type": "code",
   "execution_count": 79,
   "id": "0836da23-d5af-464b-8d2d-db772c8debbb",
   "metadata": {
    "tags": []
   },
   "outputs": [],
   "source": [
    "# On peut se servir de l'ordre avec q24a_1:q24a_10\n",
    "# ou alors on peut aussi se servir du fait que ce sont les seuls a commencer par q24a_ "
   ]
  },
  {
   "cell_type": "code",
   "execution_count": 81,
   "id": "b50d037d-c211-432d-b8ee-5ebb21f87d1b",
   "metadata": {
    "tags": []
   },
   "outputs": [
    {
     "ename": "ERROR",
     "evalue": "Error in parse(text = x, srcfile = src): <text>:2:0: fin d'entrée inattendue\n1: langues<- data.frame(\n   ^\n",
     "output_type": "error",
     "traceback": [
      "Error in parse(text = x, srcfile = src): <text>:2:0: fin d'entrée inattendue\n1: langues<- data.frame(\n   ^\nTraceback:\n"
     ]
    }
   ],
   "source": [
    "langues<- data.frame(\n",
    "    key=projet$key,\n",
    "    "
   ]
  },
  {
   "cell_type": "code",
   "execution_count": null,
   "id": "ec39a252-0a97-4202-9597-67e26b355d09",
   "metadata": {},
   "outputs": [],
   "source": []
  }
 ],
 "metadata": {
  "kernelspec": {
   "display_name": "R",
   "language": "R",
   "name": "ir"
  },
  "language_info": {
   "codemirror_mode": "r",
   "file_extension": ".r",
   "mimetype": "text/x-r-source",
   "name": "R",
   "pygments_lexer": "r",
   "version": "4.3.2"
  }
 },
 "nbformat": 4,
 "nbformat_minor": 5
}
