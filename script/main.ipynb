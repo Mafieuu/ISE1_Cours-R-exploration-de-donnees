{
 "cells": [
  {
   "cell_type": "code",
   "execution_count": 54,
   "id": "a9f7daab-c164-40ef-8631-864ea12dc3f6",
   "metadata": {},
   "outputs": [],
   "source": [
    "library(tidyverse);\n",
    "library(readxl)\n",
    "library(questionr) # pour la fonction describe()\n",
    "#library(summarytools) # pour la fonction univari()\n",
    "#library(gtsummary)"
   ]
  },
  {
   "cell_type": "markdown",
   "id": "a3b4b810-94b2-43c2-9846-099ebaa4ac76",
   "metadata": {},
   "source": [
    "## 1.2\tImportation et mise en forme "
   ]
  },
  {
   "cell_type": "markdown",
   "id": "fd3487f2-8098-4f47-ba2b-4b475498e794",
   "metadata": {},
   "source": [
    " *   Importer la base de données dans un objet de type data.frame nommé projet"
   ]
  },
  {
   "cell_type": "code",
   "execution_count": 2,
   "id": "79c0afca-1b1d-4f8b-b4ed-fd3c802a2754",
   "metadata": {},
   "outputs": [],
   "source": [
    "projet <- read_excel(\"../data/Base_Projet.xlsx\")"
   ]
  },
  {
   "cell_type": "code",
   "execution_count": 3,
   "id": "8f4d6fc7-881a-4161-8067-261a940d8ec7",
   "metadata": {},
   "outputs": [
    {
     "data": {
      "text/html": [
       "<table class=\"dataframe\">\n",
       "<caption>A tibble: 2 × 33</caption>\n",
       "<thead>\n",
       "\t<tr><th scope=col>key</th><th scope=col>q1</th><th scope=col>q2</th><th scope=col>q23</th><th scope=col>q24</th><th scope=col>q24a_1</th><th scope=col>q24a_2</th><th scope=col>q24a_3</th><th scope=col>q24a_4</th><th scope=col>q24a_5</th><th scope=col>⋯</th><th scope=col>filiere_2</th><th scope=col>filiere_3</th><th scope=col>filiere_4</th><th scope=col>q8</th><th scope=col>q81</th><th scope=col>gps_menlatitude</th><th scope=col>gps_menlongitude</th><th scope=col>submissiondate</th><th scope=col>start</th><th scope=col>today</th></tr>\n",
       "\t<tr><th scope=col>&lt;chr&gt;</th><th scope=col>&lt;chr&gt;</th><th scope=col>&lt;chr&gt;</th><th scope=col>&lt;chr&gt;</th><th scope=col>&lt;dbl&gt;</th><th scope=col>&lt;dbl&gt;</th><th scope=col>&lt;dbl&gt;</th><th scope=col>&lt;dbl&gt;</th><th scope=col>&lt;dbl&gt;</th><th scope=col>&lt;dbl&gt;</th><th scope=col>⋯</th><th scope=col>&lt;dbl&gt;</th><th scope=col>&lt;dbl&gt;</th><th scope=col>&lt;dbl&gt;</th><th scope=col>&lt;chr&gt;</th><th scope=col>&lt;chr&gt;</th><th scope=col>&lt;dbl&gt;</th><th scope=col>&lt;dbl&gt;</th><th scope=col>&lt;dttm&gt;</th><th scope=col>&lt;dttm&gt;</th><th scope=col>&lt;dttm&gt;</th></tr>\n",
       "</thead>\n",
       "<tbody>\n",
       "\t<tr><td>uuid:68bff42b-1228-4c66-9bcc-e6d312d9fea6</td><td>Diourbel</td><td>Bambey</td><td>Femme</td><td>65</td><td>0</td><td>1</td><td>0</td><td>1</td><td>0</td><td>⋯</td><td>0</td><td>0</td><td>0</td><td>Aucun                          </td><td>Propriétaire</td><td>14.62691</td><td>-16.46786</td><td>2021-06-14 20:04:38</td><td>2021-06-14 15:38:19</td><td>2021-06-14</td></tr>\n",
       "\t<tr><td>uuid:d70b3c7e-3ca0-4358-bc59-3f7f6baf55e9</td><td>Thiès   </td><td>Mbour </td><td>Femme</td><td>52</td><td>1</td><td>1</td><td>0</td><td>0</td><td>1</td><td>⋯</td><td>0</td><td>1</td><td>0</td><td>Tansformation d'autres céréales</td><td>Propriétaire</td><td>14.39973</td><td>-16.95614</td><td>2021-06-07 21:58:11</td><td>2021-06-03 19:55:41</td><td>2021-06-03</td></tr>\n",
       "</tbody>\n",
       "</table>\n"
      ],
      "text/latex": [
       "A tibble: 2 × 33\n",
       "\\begin{tabular}{lllllllllllllllllllll}\n",
       " key & q1 & q2 & q23 & q24 & q24a\\_1 & q24a\\_2 & q24a\\_3 & q24a\\_4 & q24a\\_5 & ⋯ & filiere\\_2 & filiere\\_3 & filiere\\_4 & q8 & q81 & gps\\_menlatitude & gps\\_menlongitude & submissiondate & start & today\\\\\n",
       " <chr> & <chr> & <chr> & <chr> & <dbl> & <dbl> & <dbl> & <dbl> & <dbl> & <dbl> & ⋯ & <dbl> & <dbl> & <dbl> & <chr> & <chr> & <dbl> & <dbl> & <dttm> & <dttm> & <dttm>\\\\\n",
       "\\hline\n",
       "\t uuid:68bff42b-1228-4c66-9bcc-e6d312d9fea6 & Diourbel & Bambey & Femme & 65 & 0 & 1 & 0 & 1 & 0 & ⋯ & 0 & 0 & 0 & Aucun                           & Propriétaire & 14.62691 & -16.46786 & 2021-06-14 20:04:38 & 2021-06-14 15:38:19 & 2021-06-14\\\\\n",
       "\t uuid:d70b3c7e-3ca0-4358-bc59-3f7f6baf55e9 & Thiès    & Mbour  & Femme & 52 & 1 & 1 & 0 & 0 & 1 & ⋯ & 0 & 1 & 0 & Tansformation d'autres céréales & Propriétaire & 14.39973 & -16.95614 & 2021-06-07 21:58:11 & 2021-06-03 19:55:41 & 2021-06-03\\\\\n",
       "\\end{tabular}\n"
      ],
      "text/markdown": [
       "\n",
       "A tibble: 2 × 33\n",
       "\n",
       "| key &lt;chr&gt; | q1 &lt;chr&gt; | q2 &lt;chr&gt; | q23 &lt;chr&gt; | q24 &lt;dbl&gt; | q24a_1 &lt;dbl&gt; | q24a_2 &lt;dbl&gt; | q24a_3 &lt;dbl&gt; | q24a_4 &lt;dbl&gt; | q24a_5 &lt;dbl&gt; | ⋯ ⋯ | filiere_2 &lt;dbl&gt; | filiere_3 &lt;dbl&gt; | filiere_4 &lt;dbl&gt; | q8 &lt;chr&gt; | q81 &lt;chr&gt; | gps_menlatitude &lt;dbl&gt; | gps_menlongitude &lt;dbl&gt; | submissiondate &lt;dttm&gt; | start &lt;dttm&gt; | today &lt;dttm&gt; |\n",
       "|---|---|---|---|---|---|---|---|---|---|---|---|---|---|---|---|---|---|---|---|---|\n",
       "| uuid:68bff42b-1228-4c66-9bcc-e6d312d9fea6 | Diourbel | Bambey | Femme | 65 | 0 | 1 | 0 | 1 | 0 | ⋯ | 0 | 0 | 0 | Aucun                           | Propriétaire | 14.62691 | -16.46786 | 2021-06-14 20:04:38 | 2021-06-14 15:38:19 | 2021-06-14 |\n",
       "| uuid:d70b3c7e-3ca0-4358-bc59-3f7f6baf55e9 | Thiès    | Mbour  | Femme | 52 | 1 | 1 | 0 | 0 | 1 | ⋯ | 0 | 1 | 0 | Tansformation d'autres céréales | Propriétaire | 14.39973 | -16.95614 | 2021-06-07 21:58:11 | 2021-06-03 19:55:41 | 2021-06-03 |\n",
       "\n"
      ],
      "text/plain": [
       "  key                                       q1       q2     q23   q24 q24a_1\n",
       "1 uuid:68bff42b-1228-4c66-9bcc-e6d312d9fea6 Diourbel Bambey Femme 65  0     \n",
       "2 uuid:d70b3c7e-3ca0-4358-bc59-3f7f6baf55e9 Thiès    Mbour  Femme 52  1     \n",
       "  q24a_2 q24a_3 q24a_4 q24a_5 ⋯ filiere_2 filiere_3 filiere_4\n",
       "1 1      0      1      0      ⋯ 0         0         0        \n",
       "2 1      0      0      1      ⋯ 0         1         0        \n",
       "  q8                              q81          gps_menlatitude gps_menlongitude\n",
       "1 Aucun                           Propriétaire 14.62691        -16.46786       \n",
       "2 Tansformation d'autres céréales Propriétaire 14.39973        -16.95614       \n",
       "  submissiondate      start               today     \n",
       "1 2021-06-14 20:04:38 2021-06-14 15:38:19 2021-06-14\n",
       "2 2021-06-07 21:58:11 2021-06-03 19:55:41 2021-06-03"
      ]
     },
     "metadata": {},
     "output_type": "display_data"
    }
   ],
   "source": [
    "head(projet,2) # Petite aperçu de la base de donnée "
   ]
  },
  {
   "cell_type": "markdown",
   "id": "34365938-3879-4c86-bfcc-fd2e22ccbc44",
   "metadata": {},
   "source": [
    "* Donner le nombre de lignes (i.e. le nombre de PME) et colonnes (i.e. nombre de variables) de la base\n",
    "projet\n"
   ]
  },
  {
   "cell_type": "code",
   "execution_count": 4,
   "id": "a871d6ce-e9d2-4a2d-b105-05a7614bbfc7",
   "metadata": {
    "tags": []
   },
   "outputs": [
    {
     "data": {
      "text/html": [
       "<span style=white-space:pre-wrap>'Nombre de ligne  de la base : 250'</span>"
      ],
      "text/latex": [
       "'Nombre de ligne  de la base : 250'"
      ],
      "text/markdown": [
       "<span style=white-space:pre-wrap>'Nombre de ligne  de la base : 250'</span>"
      ],
      "text/plain": [
       "[1] \"Nombre de ligne  de la base : 250\""
      ]
     },
     "metadata": {},
     "output_type": "display_data"
    }
   ],
   "source": [
    "paste0(\"Nombre de ligne  de la base : \",nrow(projet))"
   ]
  },
  {
   "cell_type": "code",
   "execution_count": 5,
   "id": "157e8524-0b0c-447b-b940-63f8d7eb7e51",
   "metadata": {
    "tags": []
   },
   "outputs": [
    {
     "data": {
      "text/html": [
       "'Nombre de colonne de la base : 33'"
      ],
      "text/latex": [
       "'Nombre de colonne de la base : 33'"
      ],
      "text/markdown": [
       "'Nombre de colonne de la base : 33'"
      ],
      "text/plain": [
       "[1] \"Nombre de colonne de la base : 33\""
      ]
     },
     "metadata": {},
     "output_type": "display_data"
    }
   ],
   "source": [
    "paste0(\"Nombre de colonne de la base : \",ncol(projet))"
   ]
  },
  {
   "cell_type": "markdown",
   "id": "65c941a3-720d-48c4-9569-60dcd06bea90",
   "metadata": {},
   "source": [
    "* Vérifier s’il y a des valeurs manquantes pour la variable key dans la base projet. Si oui, identifier la (ou les) PME concernée(s)."
   ]
  },
  {
   "cell_type": "code",
   "execution_count": 6,
   "id": "230b2340-55b8-49e7-b06c-fab98e7268a6",
   "metadata": {
    "tags": []
   },
   "outputs": [
    {
     "data": {
      "text/html": [
       "FALSE"
      ],
      "text/latex": [
       "FALSE"
      ],
      "text/markdown": [
       "FALSE"
      ],
      "text/plain": [
       "[1] FALSE"
      ]
     },
     "metadata": {},
     "output_type": "display_data"
    }
   ],
   "source": [
    "any(is.na(projet$key)) # y a t-il au moins une valeur manquante ?"
   ]
  },
  {
   "cell_type": "code",
   "execution_count": 7,
   "id": "3bff3c84-bffb-4027-a66b-9f346a0ebc76",
   "metadata": {
    "tags": []
   },
   "outputs": [],
   "source": [
    "# Pas de valeur manquantes dans la variable key"
   ]
  },
  {
   "cell_type": "markdown",
   "id": "5e3af350-b380-4412-a005-36553f69d85c",
   "metadata": {},
   "source": [
    "## 1.3\tCréation de variables (2.5 pts)"
   ]
  },
  {
   "cell_type": "markdown",
   "id": "80e0d452-174d-407c-972d-5358b4eb9388",
   "metadata": {},
   "source": [
    "* Rénommer la variable q1 en region\n",
    "* Rénommer la variable q2 en departement\n",
    "* Rénommer la variable q23 en sexe\n"
   ]
  },
  {
   "cell_type": "code",
   "execution_count": 8,
   "id": "30671ded-7ec2-4943-b931-2c2518e53e44",
   "metadata": {
    "tags": []
   },
   "outputs": [],
   "source": [
    "projet<-projet%>%\n",
    "    rename(region=q1,departement=q2,sexe=q23)"
   ]
  },
  {
   "cell_type": "code",
   "execution_count": 9,
   "id": "74f2cc85-3d76-4f78-87b9-82675d2f314e",
   "metadata": {
    "tags": []
   },
   "outputs": [
    {
     "data": {
      "text/html": [
       "<table class=\"dataframe\">\n",
       "<caption>A tibble: 1 × 33</caption>\n",
       "<thead>\n",
       "\t<tr><th scope=col>key</th><th scope=col>region</th><th scope=col>departement</th><th scope=col>sexe</th><th scope=col>q24</th><th scope=col>q24a_1</th><th scope=col>q24a_2</th><th scope=col>q24a_3</th><th scope=col>q24a_4</th><th scope=col>q24a_5</th><th scope=col>⋯</th><th scope=col>filiere_2</th><th scope=col>filiere_3</th><th scope=col>filiere_4</th><th scope=col>q8</th><th scope=col>q81</th><th scope=col>gps_menlatitude</th><th scope=col>gps_menlongitude</th><th scope=col>submissiondate</th><th scope=col>start</th><th scope=col>today</th></tr>\n",
       "\t<tr><th scope=col>&lt;chr&gt;</th><th scope=col>&lt;chr&gt;</th><th scope=col>&lt;chr&gt;</th><th scope=col>&lt;chr&gt;</th><th scope=col>&lt;dbl&gt;</th><th scope=col>&lt;dbl&gt;</th><th scope=col>&lt;dbl&gt;</th><th scope=col>&lt;dbl&gt;</th><th scope=col>&lt;dbl&gt;</th><th scope=col>&lt;dbl&gt;</th><th scope=col>⋯</th><th scope=col>&lt;dbl&gt;</th><th scope=col>&lt;dbl&gt;</th><th scope=col>&lt;dbl&gt;</th><th scope=col>&lt;chr&gt;</th><th scope=col>&lt;chr&gt;</th><th scope=col>&lt;dbl&gt;</th><th scope=col>&lt;dbl&gt;</th><th scope=col>&lt;dttm&gt;</th><th scope=col>&lt;dttm&gt;</th><th scope=col>&lt;dttm&gt;</th></tr>\n",
       "</thead>\n",
       "<tbody>\n",
       "\t<tr><td>uuid:68bff42b-1228-4c66-9bcc-e6d312d9fea6</td><td>Diourbel</td><td>Bambey</td><td>Femme</td><td>65</td><td>0</td><td>1</td><td>0</td><td>1</td><td>0</td><td>⋯</td><td>0</td><td>0</td><td>0</td><td>Aucun</td><td>Propriétaire</td><td>14.62691</td><td>-16.46786</td><td>2021-06-14 20:04:38</td><td>2021-06-14 15:38:19</td><td>2021-06-14</td></tr>\n",
       "</tbody>\n",
       "</table>\n"
      ],
      "text/latex": [
       "A tibble: 1 × 33\n",
       "\\begin{tabular}{lllllllllllllllllllll}\n",
       " key & region & departement & sexe & q24 & q24a\\_1 & q24a\\_2 & q24a\\_3 & q24a\\_4 & q24a\\_5 & ⋯ & filiere\\_2 & filiere\\_3 & filiere\\_4 & q8 & q81 & gps\\_menlatitude & gps\\_menlongitude & submissiondate & start & today\\\\\n",
       " <chr> & <chr> & <chr> & <chr> & <dbl> & <dbl> & <dbl> & <dbl> & <dbl> & <dbl> & ⋯ & <dbl> & <dbl> & <dbl> & <chr> & <chr> & <dbl> & <dbl> & <dttm> & <dttm> & <dttm>\\\\\n",
       "\\hline\n",
       "\t uuid:68bff42b-1228-4c66-9bcc-e6d312d9fea6 & Diourbel & Bambey & Femme & 65 & 0 & 1 & 0 & 1 & 0 & ⋯ & 0 & 0 & 0 & Aucun & Propriétaire & 14.62691 & -16.46786 & 2021-06-14 20:04:38 & 2021-06-14 15:38:19 & 2021-06-14\\\\\n",
       "\\end{tabular}\n"
      ],
      "text/markdown": [
       "\n",
       "A tibble: 1 × 33\n",
       "\n",
       "| key &lt;chr&gt; | region &lt;chr&gt; | departement &lt;chr&gt; | sexe &lt;chr&gt; | q24 &lt;dbl&gt; | q24a_1 &lt;dbl&gt; | q24a_2 &lt;dbl&gt; | q24a_3 &lt;dbl&gt; | q24a_4 &lt;dbl&gt; | q24a_5 &lt;dbl&gt; | ⋯ ⋯ | filiere_2 &lt;dbl&gt; | filiere_3 &lt;dbl&gt; | filiere_4 &lt;dbl&gt; | q8 &lt;chr&gt; | q81 &lt;chr&gt; | gps_menlatitude &lt;dbl&gt; | gps_menlongitude &lt;dbl&gt; | submissiondate &lt;dttm&gt; | start &lt;dttm&gt; | today &lt;dttm&gt; |\n",
       "|---|---|---|---|---|---|---|---|---|---|---|---|---|---|---|---|---|---|---|---|---|\n",
       "| uuid:68bff42b-1228-4c66-9bcc-e6d312d9fea6 | Diourbel | Bambey | Femme | 65 | 0 | 1 | 0 | 1 | 0 | ⋯ | 0 | 0 | 0 | Aucun | Propriétaire | 14.62691 | -16.46786 | 2021-06-14 20:04:38 | 2021-06-14 15:38:19 | 2021-06-14 |\n",
       "\n"
      ],
      "text/plain": [
       "  key                                       region   departement sexe  q24\n",
       "1 uuid:68bff42b-1228-4c66-9bcc-e6d312d9fea6 Diourbel Bambey      Femme 65 \n",
       "  q24a_1 q24a_2 q24a_3 q24a_4 q24a_5 ⋯ filiere_2 filiere_3 filiere_4 q8   \n",
       "1 0      1      0      1      0      ⋯ 0         0         0         Aucun\n",
       "  q81          gps_menlatitude gps_menlongitude submissiondate     \n",
       "1 Propriétaire 14.62691        -16.46786        2021-06-14 20:04:38\n",
       "  start               today     \n",
       "1 2021-06-14 15:38:19 2021-06-14"
      ]
     },
     "metadata": {},
     "output_type": "display_data"
    }
   ],
   "source": [
    "head(projet,1)"
   ]
  },
  {
   "cell_type": "markdown",
   "id": "5ade9682-f0f3-4189-8780-bb83eca868b7",
   "metadata": {},
   "source": [
    " * Créer la variable sexe_2 qui vaut 1 si sexe égale à Femme et 0 sinon"
   ]
  },
  {
   "cell_type": "code",
   "execution_count": 10,
   "id": "1c04c657-71a4-4c53-aec4-bf2cc033b51f",
   "metadata": {
    "tags": []
   },
   "outputs": [
    {
     "data": {
      "text/html": [
       "'character'"
      ],
      "text/latex": [
       "'character'"
      ],
      "text/markdown": [
       "'character'"
      ],
      "text/plain": [
       "[1] \"character\""
      ]
     },
     "metadata": {},
     "output_type": "display_data"
    }
   ],
   "source": [
    "class(projet$sexe)  # Un string, donc la casse interviens"
   ]
  },
  {
   "cell_type": "code",
   "execution_count": 11,
   "id": "696ddcc4-6597-45e3-b28b-54c82d519738",
   "metadata": {
    "tags": []
   },
   "outputs": [],
   "source": [
    "projet<-projet%>%\n",
    "    mutate(sexe_2=as.integer(tolower(sexe)==\"femme\"))\n",
    "# tolower pour normaliser la casse\n",
    "# on se sert de l'egalite TRUE==1 pour la conversion en integer"
   ]
  },
  {
   "cell_type": "code",
   "execution_count": 12,
   "id": "53d8d30f-d393-4864-90c2-8fa6d4cf3aa8",
   "metadata": {
    "tags": []
   },
   "outputs": [
    {
     "data": {
      "text/plain": [
       "[250 obs.] \n",
       "integer: 1 1 1 1 0 1 1 0 1 0 ...\n",
       "min: 0 - max: 1 - NAs: 0 (0%) - 2 unique values\n",
       "\n",
       "        n     %\n",
       "0      59  23.6\n",
       "1     191  76.4\n",
       "Total 250 100.0"
      ]
     },
     "metadata": {},
     "output_type": "display_data"
    }
   ],
   "source": [
    "describe(projet$sexe_2)"
   ]
  },
  {
   "cell_type": "markdown",
   "id": "fcfb83d1-f3d9-4464-9341-3f8f4cd6d022",
   "metadata": {},
   "source": [
    "* Créer un data.frame nommé langues qui prend les variables key et les variables correspondantes décrites plus haut."
   ]
  },
  {
   "cell_type": "code",
   "execution_count": 13,
   "id": "12a3428a-c190-4e25-ac55-4042ad21540e",
   "metadata": {
    "tags": []
   },
   "outputs": [
    {
     "data": {
      "text/html": [
       "<style>\n",
       ".list-inline {list-style: none; margin:0; padding: 0}\n",
       ".list-inline>li {display: inline-block}\n",
       ".list-inline>li:not(:last-child)::after {content: \"\\00b7\"; padding: 0 .5ex}\n",
       "</style>\n",
       "<ol class=list-inline><li>'key'</li><li>'region'</li><li>'departement'</li><li>'sexe'</li><li>'q24'</li><li>'q24a_1'</li><li>'q24a_2'</li><li>'q24a_3'</li><li>'q24a_4'</li><li>'q24a_5'</li><li>'q24a_6'</li><li>'q24a_7'</li><li>'q24a_9'</li><li>'q24a_10'</li><li>'q25'</li><li>'q26'</li><li>'q12'</li><li>'q14b'</li><li>'q16'</li><li>'q17'</li><li>'q19'</li><li>'q20'</li><li>'filiere_1'</li><li>'filiere_2'</li><li>'filiere_3'</li><li>'filiere_4'</li><li>'q8'</li><li>'q81'</li><li>'gps_menlatitude'</li><li>'gps_menlongitude'</li><li>'submissiondate'</li><li>'start'</li><li>'today'</li><li>'sexe_2'</li></ol>\n"
      ],
      "text/latex": [
       "\\begin{enumerate*}\n",
       "\\item 'key'\n",
       "\\item 'region'\n",
       "\\item 'departement'\n",
       "\\item 'sexe'\n",
       "\\item 'q24'\n",
       "\\item 'q24a\\_1'\n",
       "\\item 'q24a\\_2'\n",
       "\\item 'q24a\\_3'\n",
       "\\item 'q24a\\_4'\n",
       "\\item 'q24a\\_5'\n",
       "\\item 'q24a\\_6'\n",
       "\\item 'q24a\\_7'\n",
       "\\item 'q24a\\_9'\n",
       "\\item 'q24a\\_10'\n",
       "\\item 'q25'\n",
       "\\item 'q26'\n",
       "\\item 'q12'\n",
       "\\item 'q14b'\n",
       "\\item 'q16'\n",
       "\\item 'q17'\n",
       "\\item 'q19'\n",
       "\\item 'q20'\n",
       "\\item 'filiere\\_1'\n",
       "\\item 'filiere\\_2'\n",
       "\\item 'filiere\\_3'\n",
       "\\item 'filiere\\_4'\n",
       "\\item 'q8'\n",
       "\\item 'q81'\n",
       "\\item 'gps\\_menlatitude'\n",
       "\\item 'gps\\_menlongitude'\n",
       "\\item 'submissiondate'\n",
       "\\item 'start'\n",
       "\\item 'today'\n",
       "\\item 'sexe\\_2'\n",
       "\\end{enumerate*}\n"
      ],
      "text/markdown": [
       "1. 'key'\n",
       "2. 'region'\n",
       "3. 'departement'\n",
       "4. 'sexe'\n",
       "5. 'q24'\n",
       "6. 'q24a_1'\n",
       "7. 'q24a_2'\n",
       "8. 'q24a_3'\n",
       "9. 'q24a_4'\n",
       "10. 'q24a_5'\n",
       "11. 'q24a_6'\n",
       "12. 'q24a_7'\n",
       "13. 'q24a_9'\n",
       "14. 'q24a_10'\n",
       "15. 'q25'\n",
       "16. 'q26'\n",
       "17. 'q12'\n",
       "18. 'q14b'\n",
       "19. 'q16'\n",
       "20. 'q17'\n",
       "21. 'q19'\n",
       "22. 'q20'\n",
       "23. 'filiere_1'\n",
       "24. 'filiere_2'\n",
       "25. 'filiere_3'\n",
       "26. 'filiere_4'\n",
       "27. 'q8'\n",
       "28. 'q81'\n",
       "29. 'gps_menlatitude'\n",
       "30. 'gps_menlongitude'\n",
       "31. 'submissiondate'\n",
       "32. 'start'\n",
       "33. 'today'\n",
       "34. 'sexe_2'\n",
       "\n",
       "\n"
      ],
      "text/plain": [
       " [1] \"key\"              \"region\"           \"departement\"      \"sexe\"            \n",
       " [5] \"q24\"              \"q24a_1\"           \"q24a_2\"           \"q24a_3\"          \n",
       " [9] \"q24a_4\"           \"q24a_5\"           \"q24a_6\"           \"q24a_7\"          \n",
       "[13] \"q24a_9\"           \"q24a_10\"          \"q25\"              \"q26\"             \n",
       "[17] \"q12\"              \"q14b\"             \"q16\"              \"q17\"             \n",
       "[21] \"q19\"              \"q20\"              \"filiere_1\"        \"filiere_2\"       \n",
       "[25] \"filiere_3\"        \"filiere_4\"        \"q8\"               \"q81\"             \n",
       "[29] \"gps_menlatitude\"  \"gps_menlongitude\" \"submissiondate\"   \"start\"           \n",
       "[33] \"today\"            \"sexe_2\"          "
      ]
     },
     "metadata": {},
     "output_type": "display_data"
    }
   ],
   "source": [
    "# Regardons la maniere dont est ordonne nos variables\n",
    "names(projet)"
   ]
  },
  {
   "cell_type": "code",
   "execution_count": 14,
   "id": "0836da23-d5af-464b-8d2d-db772c8debbb",
   "metadata": {
    "tags": []
   },
   "outputs": [],
   "source": [
    "# On peut se servir de l'ordre avec q24a_1:q24a_10\n",
    "# ou alors on peut aussi se servir du fait que ce sont les seuls a commencer par q24a_ "
   ]
  },
  {
   "cell_type": "code",
   "execution_count": 15,
   "id": "b50d037d-c211-432d-b8ee-5ebb21f87d1b",
   "metadata": {
    "tags": []
   },
   "outputs": [],
   "source": [
    "langues<- projet%>%\n",
    "    select(key,starts_with(\"q24a_\"))%>%\n",
    "    as.data.frame()\n",
    "    # les fonctions de dplyr genere des objet de type tibble convertible en data.frane"
   ]
  },
  {
   "cell_type": "code",
   "execution_count": 16,
   "id": "ec39a252-0a97-4202-9597-67e26b355d09",
   "metadata": {
    "tags": []
   },
   "outputs": [
    {
     "data": {
      "text/html": [
       "<table class=\"dataframe\">\n",
       "<caption>A data.frame: 1 × 10</caption>\n",
       "<thead>\n",
       "\t<tr><th></th><th scope=col>key</th><th scope=col>q24a_1</th><th scope=col>q24a_2</th><th scope=col>q24a_3</th><th scope=col>q24a_4</th><th scope=col>q24a_5</th><th scope=col>q24a_6</th><th scope=col>q24a_7</th><th scope=col>q24a_9</th><th scope=col>q24a_10</th></tr>\n",
       "\t<tr><th></th><th scope=col>&lt;chr&gt;</th><th scope=col>&lt;dbl&gt;</th><th scope=col>&lt;dbl&gt;</th><th scope=col>&lt;dbl&gt;</th><th scope=col>&lt;dbl&gt;</th><th scope=col>&lt;dbl&gt;</th><th scope=col>&lt;dbl&gt;</th><th scope=col>&lt;dbl&gt;</th><th scope=col>&lt;dbl&gt;</th><th scope=col>&lt;dbl&gt;</th></tr>\n",
       "</thead>\n",
       "<tbody>\n",
       "\t<tr><th scope=row>1</th><td>uuid:68bff42b-1228-4c66-9bcc-e6d312d9fea6</td><td>0</td><td>1</td><td>0</td><td>1</td><td>0</td><td>0</td><td>0</td><td>0</td><td>0</td></tr>\n",
       "</tbody>\n",
       "</table>\n"
      ],
      "text/latex": [
       "A data.frame: 1 × 10\n",
       "\\begin{tabular}{r|llllllllll}\n",
       "  & key & q24a\\_1 & q24a\\_2 & q24a\\_3 & q24a\\_4 & q24a\\_5 & q24a\\_6 & q24a\\_7 & q24a\\_9 & q24a\\_10\\\\\n",
       "  & <chr> & <dbl> & <dbl> & <dbl> & <dbl> & <dbl> & <dbl> & <dbl> & <dbl> & <dbl>\\\\\n",
       "\\hline\n",
       "\t1 & uuid:68bff42b-1228-4c66-9bcc-e6d312d9fea6 & 0 & 1 & 0 & 1 & 0 & 0 & 0 & 0 & 0\\\\\n",
       "\\end{tabular}\n"
      ],
      "text/markdown": [
       "\n",
       "A data.frame: 1 × 10\n",
       "\n",
       "| <!--/--> | key &lt;chr&gt; | q24a_1 &lt;dbl&gt; | q24a_2 &lt;dbl&gt; | q24a_3 &lt;dbl&gt; | q24a_4 &lt;dbl&gt; | q24a_5 &lt;dbl&gt; | q24a_6 &lt;dbl&gt; | q24a_7 &lt;dbl&gt; | q24a_9 &lt;dbl&gt; | q24a_10 &lt;dbl&gt; |\n",
       "|---|---|---|---|---|---|---|---|---|---|---|\n",
       "| 1 | uuid:68bff42b-1228-4c66-9bcc-e6d312d9fea6 | 0 | 1 | 0 | 1 | 0 | 0 | 0 | 0 | 0 |\n",
       "\n"
      ],
      "text/plain": [
       "  key                                       q24a_1 q24a_2 q24a_3 q24a_4 q24a_5\n",
       "1 uuid:68bff42b-1228-4c66-9bcc-e6d312d9fea6 0      1      0      1      0     \n",
       "  q24a_6 q24a_7 q24a_9 q24a_10\n",
       "1 0      0      0      0      "
      ]
     },
     "metadata": {},
     "output_type": "display_data"
    }
   ],
   "source": [
    "head(langues,1)"
   ]
  },
  {
   "cell_type": "markdown",
   "id": "d5fe3952-12b4-42b6-a8f8-71fa65770e1a",
   "metadata": {},
   "source": [
    "* Créer une variable parle qui est égale au nombre de langue parlée par le dirigeant de la PME."
   ]
  },
  {
   "cell_type": "code",
   "execution_count": 17,
   "id": "0778bc50-5c96-472a-9368-c796c0c2aa4e",
   "metadata": {
    "tags": []
   },
   "outputs": [],
   "source": [
    "langue_parle_PME<-langues%>%\n",
    "    select(-key)# on selectionne uniquement les variables ayant trait a la langue "
   ]
  },
  {
   "cell_type": "code",
   "execution_count": 18,
   "id": "e28627a5-5678-43bc-adde-e27453cd5519",
   "metadata": {
    "tags": []
   },
   "outputs": [],
   "source": [
    "langues <-langues%>%\n",
    "    mutate(parle=rowSums(langue_parle_PME) )# a chaque individus on somme les lignes de la variable langue_parle_PME"
   ]
  },
  {
   "cell_type": "code",
   "execution_count": 19,
   "id": "964c27b3-9237-4b08-96ad-990d78641781",
   "metadata": {
    "tags": []
   },
   "outputs": [
    {
     "data": {
      "text/html": [
       "<style>\n",
       ".list-inline {list-style: none; margin:0; padding: 0}\n",
       ".list-inline>li {display: inline-block}\n",
       ".list-inline>li:not(:last-child)::after {content: \"\\00b7\"; padding: 0 .5ex}\n",
       "</style>\n",
       "<ol class=list-inline><li>2</li><li>3</li><li>2</li><li>3</li><li>4</li><li>3</li></ol>\n"
      ],
      "text/latex": [
       "\\begin{enumerate*}\n",
       "\\item 2\n",
       "\\item 3\n",
       "\\item 2\n",
       "\\item 3\n",
       "\\item 4\n",
       "\\item 3\n",
       "\\end{enumerate*}\n"
      ],
      "text/markdown": [
       "1. 2\n",
       "2. 3\n",
       "3. 2\n",
       "4. 3\n",
       "5. 4\n",
       "6. 3\n",
       "\n",
       "\n"
      ],
      "text/plain": [
       "[1] 2 3 2 3 4 3"
      ]
     },
     "metadata": {},
     "output_type": "display_data"
    }
   ],
   "source": [
    "head(langues$parle)"
   ]
  },
  {
   "cell_type": "markdown",
   "id": "20da9734-8526-46bb-b6a1-f298d4a40916",
   "metadata": {},
   "source": [
    "* Sélectionnez uniquement les variables key et parle, l’objet de retour sera langues"
   ]
  },
  {
   "cell_type": "code",
   "execution_count": 20,
   "id": "f4ed012a-60eb-40ba-9631-25677cef6268",
   "metadata": {
    "tags": []
   },
   "outputs": [],
   "source": [
    "langues <-langues%>% \n",
    "    select(key,parle)"
   ]
  },
  {
   "cell_type": "code",
   "execution_count": 21,
   "id": "44f71c49-919d-4b68-8a2e-b715ff6ec03c",
   "metadata": {
    "tags": []
   },
   "outputs": [
    {
     "data": {
      "text/html": [
       "<table class=\"dataframe\">\n",
       "<caption>A data.frame: 1 × 2</caption>\n",
       "<thead>\n",
       "\t<tr><th></th><th scope=col>key</th><th scope=col>parle</th></tr>\n",
       "\t<tr><th></th><th scope=col>&lt;chr&gt;</th><th scope=col>&lt;dbl&gt;</th></tr>\n",
       "</thead>\n",
       "<tbody>\n",
       "\t<tr><th scope=row>1</th><td>uuid:68bff42b-1228-4c66-9bcc-e6d312d9fea6</td><td>2</td></tr>\n",
       "</tbody>\n",
       "</table>\n"
      ],
      "text/latex": [
       "A data.frame: 1 × 2\n",
       "\\begin{tabular}{r|ll}\n",
       "  & key & parle\\\\\n",
       "  & <chr> & <dbl>\\\\\n",
       "\\hline\n",
       "\t1 & uuid:68bff42b-1228-4c66-9bcc-e6d312d9fea6 & 2\\\\\n",
       "\\end{tabular}\n"
      ],
      "text/markdown": [
       "\n",
       "A data.frame: 1 × 2\n",
       "\n",
       "| <!--/--> | key &lt;chr&gt; | parle &lt;dbl&gt; |\n",
       "|---|---|---|\n",
       "| 1 | uuid:68bff42b-1228-4c66-9bcc-e6d312d9fea6 | 2 |\n",
       "\n"
      ],
      "text/plain": [
       "  key                                       parle\n",
       "1 uuid:68bff42b-1228-4c66-9bcc-e6d312d9fea6 2    "
      ]
     },
     "metadata": {},
     "output_type": "display_data"
    }
   ],
   "source": [
    "head(langues,1)"
   ]
  },
  {
   "cell_type": "markdown",
   "id": "79094ae3-e83d-427e-83f9-5131758f65a9",
   "metadata": {},
   "source": [
    "* Merger les data.frame projet et langues:"
   ]
  },
  {
   "cell_type": "code",
   "execution_count": 22,
   "id": "f57559e8-9279-4b51-a88f-3a6481583803",
   "metadata": {
    "tags": []
   },
   "outputs": [],
   "source": [
    "# Les deux data.frames ont la colonne key en commun, on vas maj projet\n",
    "projet<- merge(projet,langues,by=\"key\")"
   ]
  },
  {
   "cell_type": "code",
   "execution_count": 23,
   "id": "e299bd54-20f4-442f-9124-c5dae8621535",
   "metadata": {
    "tags": []
   },
   "outputs": [
    {
     "data": {
      "text/html": [
       "<table class=\"dataframe\">\n",
       "<caption>A data.frame: 2 × 2</caption>\n",
       "<thead>\n",
       "\t<tr><th></th><th scope=col>key</th><th scope=col>parle</th></tr>\n",
       "\t<tr><th></th><th scope=col>&lt;chr&gt;</th><th scope=col>&lt;dbl&gt;</th></tr>\n",
       "</thead>\n",
       "<tbody>\n",
       "\t<tr><th scope=row>1</th><td>uuid:004b9117-d180-4031-a6af-6b4efabb5f53</td><td>1</td></tr>\n",
       "\t<tr><th scope=row>2</th><td>uuid:007d8eb4-45eb-44f4-aeac-722adc60aec8</td><td>2</td></tr>\n",
       "</tbody>\n",
       "</table>\n"
      ],
      "text/latex": [
       "A data.frame: 2 × 2\n",
       "\\begin{tabular}{r|ll}\n",
       "  & key & parle\\\\\n",
       "  & <chr> & <dbl>\\\\\n",
       "\\hline\n",
       "\t1 & uuid:004b9117-d180-4031-a6af-6b4efabb5f53 & 1\\\\\n",
       "\t2 & uuid:007d8eb4-45eb-44f4-aeac-722adc60aec8 & 2\\\\\n",
       "\\end{tabular}\n"
      ],
      "text/markdown": [
       "\n",
       "A data.frame: 2 × 2\n",
       "\n",
       "| <!--/--> | key &lt;chr&gt; | parle &lt;dbl&gt; |\n",
       "|---|---|---|\n",
       "| 1 | uuid:004b9117-d180-4031-a6af-6b4efabb5f53 | 1 |\n",
       "| 2 | uuid:007d8eb4-45eb-44f4-aeac-722adc60aec8 | 2 |\n",
       "\n"
      ],
      "text/plain": [
       "  key                                       parle\n",
       "1 uuid:004b9117-d180-4031-a6af-6b4efabb5f53 1    \n",
       "2 uuid:007d8eb4-45eb-44f4-aeac-722adc60aec8 2    "
      ]
     },
     "metadata": {},
     "output_type": "display_data"
    }
   ],
   "source": [
    "head(projet[,c(\"key\",\"parle\")],2) # Le merge a fonctionne avec succes"
   ]
  },
  {
   "cell_type": "markdown",
   "id": "7fb691c5-57a0-4241-a71e-14d5846e796e",
   "metadata": {},
   "source": [
    "## 2 Analyses descriptives (10 pts)"
   ]
  },
  {
   "cell_type": "markdown",
   "id": "766fd3d5-6916-4b6a-8785-a08cda15eabe",
   "metadata": {
    "tags": []
   },
   "source": [
    " * Quelle est la répartion des PME suivant:\n",
    "    * le sexe?\n",
    "    * le niveau d’instruction?\n",
    "    * le statut juridique?\n",
    "    * le propriétaire/locataire?\n",
    "    * le statut juridique et le sexe?\n",
    "    * le niveau d’instruction et le sexe?\n",
    "    * Propriétaire/locataire suivant le sexe?\n"
   ]
  },
  {
   "cell_type": "code",
   "execution_count": 24,
   "id": "9fc48f71-4abe-4ace-802b-dca2dd0a6d71",
   "metadata": {
    "tags": []
   },
   "outputs": [],
   "source": [
    "#-------- Repartition des PME suivant le sexe"
   ]
  },
  {
   "cell_type": "code",
   "execution_count": 25,
   "id": "30293afe-225e-4b91-98ca-027e78178925",
   "metadata": {
    "tags": []
   },
   "outputs": [
    {
     "data": {
      "text/html": [
       "<table class=\"dataframe\">\n",
       "<caption>A matrix: 3 × 2 of type dbl</caption>\n",
       "<thead>\n",
       "\t<tr><th></th><th scope=col>Femme</th><th scope=col>Homme</th></tr>\n",
       "</thead>\n",
       "<tbody>\n",
       "\t<tr><th scope=row>Effectifs</th><td>191.0</td><td>59.0</td></tr>\n",
       "\t<tr><th scope=row>Valeurs manquantes</th><td>  0.0</td><td> 0.0</td></tr>\n",
       "\t<tr><th scope=row>Pourcentage</th><td> 76.4</td><td>23.6</td></tr>\n",
       "</tbody>\n",
       "</table>\n"
      ],
      "text/latex": [
       "A matrix: 3 × 2 of type dbl\n",
       "\\begin{tabular}{r|ll}\n",
       "  & Femme & Homme\\\\\n",
       "\\hline\n",
       "\tEffectifs & 191.0 & 59.0\\\\\n",
       "\tValeurs manquantes &   0.0 &  0.0\\\\\n",
       "\tPourcentage &  76.4 & 23.6\\\\\n",
       "\\end{tabular}\n"
      ],
      "text/markdown": [
       "\n",
       "A matrix: 3 × 2 of type dbl\n",
       "\n",
       "| <!--/--> | Femme | Homme |\n",
       "|---|---|---|\n",
       "| Effectifs | 191.0 | 59.0 |\n",
       "| Valeurs manquantes |   0.0 |  0.0 |\n",
       "| Pourcentage |  76.4 | 23.6 |\n",
       "\n"
      ],
      "text/plain": [
       "                   Femme Homme\n",
       "Effectifs          191.0 59.0 \n",
       "Valeurs manquantes   0.0  0.0 \n",
       "Pourcentage         76.4 23.6 "
      ]
     },
     "metadata": {},
     "output_type": "display_data"
    }
   ],
   "source": [
    "#  Repartition des PME suivant le sexe\n",
    "# ---------- ligne des effectifs\n",
    "tab_effectif <- table(projet$sexe) # Calcul des effectifs\n",
    "tab_effectif <- rbind(tab_effectif ) # Permet de generer un tableau avec des lignes nommee \n",
    "rownames(tab_effectif)[1] <- \"Effectifs\" # modificiation du nom de la ligne\n",
    "# ---------- ligne des pourcentages\n",
    "tab_effectif_percent <- prop.table(tab_effectif) * 100 # calcul des pourcentages\n",
    "rownames(tab_effectif_percent)<-\"Pourcentage\" # pas bessoin de rbin on travail deja un tab a ligne nommme (tab_effectif)\n",
    "# ---------- ligne des valeurs manquantes\n",
    "tab_sexe <- rbind(tab_effectif, \"Valeurs manquantes\" = sum(is.na(projet$sexe)))# ajout de la ligne NA\n",
    "# ---------- tableau repartition des PME suivant le sexe\n",
    "tab_sexe<-rbind(tab_sexe,tab_effectif_percent)\n",
    "tab_sexe"
   ]
  },
  {
   "cell_type": "code",
   "execution_count": 26,
   "id": "325d3767-ee6d-46d1-b6d2-6329c716c96e",
   "metadata": {
    "tags": []
   },
   "outputs": [
    {
     "data": {
      "text/html": [
       "<table class=\"dataframe\">\n",
       "<caption>A matrix: 3 × 2 of type dbl</caption>\n",
       "<thead>\n",
       "\t<tr><th></th><th scope=col>Femme</th><th scope=col>Homme</th></tr>\n",
       "</thead>\n",
       "<tbody>\n",
       "\t<tr><th scope=row>Effectifs</th><td>191.0</td><td>59.0</td></tr>\n",
       "\t<tr><th scope=row>Pourcentage</th><td> 76.4</td><td>23.6</td></tr>\n",
       "\t<tr><th scope=row>Valeurs manquantes</th><td>  0.0</td><td> 0.0</td></tr>\n",
       "</tbody>\n",
       "</table>\n"
      ],
      "text/latex": [
       "A matrix: 3 × 2 of type dbl\n",
       "\\begin{tabular}{r|ll}\n",
       "  & Femme & Homme\\\\\n",
       "\\hline\n",
       "\tEffectifs & 191.0 & 59.0\\\\\n",
       "\tPourcentage &  76.4 & 23.6\\\\\n",
       "\tValeurs manquantes &   0.0 &  0.0\\\\\n",
       "\\end{tabular}\n"
      ],
      "text/markdown": [
       "\n",
       "A matrix: 3 × 2 of type dbl\n",
       "\n",
       "| <!--/--> | Femme | Homme |\n",
       "|---|---|---|\n",
       "| Effectifs | 191.0 | 59.0 |\n",
       "| Pourcentage |  76.4 | 23.6 |\n",
       "| Valeurs manquantes |   0.0 |  0.0 |\n",
       "\n"
      ],
      "text/plain": [
       "                   Femme Homme\n",
       "Effectifs          191.0 59.0 \n",
       "Pourcentage         76.4 23.6 \n",
       "Valeurs manquantes   0.0  0.0 "
      ]
     },
     "metadata": {},
     "output_type": "display_data"
    }
   ],
   "source": [
    "# intervertissons les lignes \"Valeurs manquantes\" et \"Pourcentages\" \n",
    "# -------- tab_sexe est une matrice donc pas de slice()\n",
    "tab_sexe<-tab_sexe[c(\"Effectifs\",\"Pourcentage\",\"Valeurs manquantes\"),]\n",
    "tab_sexe"
   ]
  },
  {
   "cell_type": "code",
   "execution_count": 27,
   "id": "8e4aba4e-3cce-4eb7-afbb-4a0101156371",
   "metadata": {
    "tags": []
   },
   "outputs": [],
   "source": [
    "# maintenant nous allons cree une fonction pour automatiser le processus.\n",
    "# La nouveaute ici c'est que projet$var ne marche pas car var n'est pas en soi une colonne. solution: projet[[var]]\n",
    "\n",
    "repartition<-function (var,projet_=projet) {# je me laisse la possibilite de modifier projet avant de l'appel de repartition() \n",
    "     # ---------- ligne des effectifs\n",
    "    tab_effectif <- table(projet_[[var]]) # Calcul des effectifs\n",
    "    tab_effectif <- rbind(tab_effectif ) # Permet de generer un tableau avec des lignes nommee \n",
    "    rownames(tab_effectif)[1] <- \"Effectifs\" # modificiation du nom de la ligne\n",
    "    # ---------- ligne des pourcentages\n",
    "    tab_effectif_percent <- prop.table(tab_effectif) * 100 # calcul des pourcentages\n",
    "    rownames(tab_effectif_percent)<-\"Pourcentage\" # pas bessoin de rbind on travail deja un tab a ligne nommme (tab_effectif)\n",
    "    # ---------- ligne des valeurs manquantes\n",
    "   tab_var <- rbind(tab_effectif, \"Valeurs manquantes\" = sum(is.na(projet_[[var]])))# ajout de la ligne NA\n",
    "    # ---------- tableau repartition des PME suivant le sexe\n",
    "    tab_var<-rbind(tab_var,tab_effectif_percent)\n",
    "    # intervertissons les lignes \"Valeurs manquantes\" et \"Pourcentages\" \n",
    "    # -------- tab_var est une matrice donc pas de slice()\n",
    "    tab_var<-tab_var[c(\"Effectifs\",\"Pourcentage\",\"Valeurs manquantes\"),]\n",
    "    tab_var<- as.data.frame(tab_var) # conversion en data.frame pour l'elegence du rendu\n",
    "    # print(tab_var) est moche et tab_var ne marche pas dans la declaration de la fonction donc pas d'affichage ici\n",
    "    return(tab_var)\n",
    "  \n",
    "}"
   ]
  },
  {
   "cell_type": "code",
   "execution_count": 28,
   "id": "27cd0a92-ee18-4909-8d9a-7de3a5f2fcb9",
   "metadata": {
    "tags": []
   },
   "outputs": [],
   "source": [
    "#-------- Repartition des PME suivant le niveau d'instruction"
   ]
  },
  {
   "cell_type": "code",
   "execution_count": 29,
   "id": "d44439c2-aba6-4b69-8ccf-55a91f376d47",
   "metadata": {
    "tags": []
   },
   "outputs": [
    {
     "data": {
      "text/html": [
       "<table class=\"dataframe\">\n",
       "<caption>A data.frame: 3 × 4</caption>\n",
       "<thead>\n",
       "\t<tr><th></th><th scope=col>Aucun niveau</th><th scope=col>Niveau primaire</th><th scope=col>Niveau secondaire</th><th scope=col>Niveau Superieur</th></tr>\n",
       "\t<tr><th></th><th scope=col>&lt;dbl&gt;</th><th scope=col>&lt;dbl&gt;</th><th scope=col>&lt;dbl&gt;</th><th scope=col>&lt;dbl&gt;</th></tr>\n",
       "</thead>\n",
       "<tbody>\n",
       "\t<tr><th scope=row>Effectifs</th><td>79.0</td><td>56.0</td><td>74.0</td><td>41.0</td></tr>\n",
       "\t<tr><th scope=row>Pourcentage</th><td>31.6</td><td>22.4</td><td>29.6</td><td>16.4</td></tr>\n",
       "\t<tr><th scope=row>Valeurs manquantes</th><td> 0.0</td><td> 0.0</td><td> 0.0</td><td> 0.0</td></tr>\n",
       "</tbody>\n",
       "</table>\n"
      ],
      "text/latex": [
       "A data.frame: 3 × 4\n",
       "\\begin{tabular}{r|llll}\n",
       "  & Aucun niveau & Niveau primaire & Niveau secondaire & Niveau Superieur\\\\\n",
       "  & <dbl> & <dbl> & <dbl> & <dbl>\\\\\n",
       "\\hline\n",
       "\tEffectifs & 79.0 & 56.0 & 74.0 & 41.0\\\\\n",
       "\tPourcentage & 31.6 & 22.4 & 29.6 & 16.4\\\\\n",
       "\tValeurs manquantes &  0.0 &  0.0 &  0.0 &  0.0\\\\\n",
       "\\end{tabular}\n"
      ],
      "text/markdown": [
       "\n",
       "A data.frame: 3 × 4\n",
       "\n",
       "| <!--/--> | Aucun niveau &lt;dbl&gt; | Niveau primaire &lt;dbl&gt; | Niveau secondaire &lt;dbl&gt; | Niveau Superieur &lt;dbl&gt; |\n",
       "|---|---|---|---|---|\n",
       "| Effectifs | 79.0 | 56.0 | 74.0 | 41.0 |\n",
       "| Pourcentage | 31.6 | 22.4 | 29.6 | 16.4 |\n",
       "| Valeurs manquantes |  0.0 |  0.0 |  0.0 |  0.0 |\n",
       "\n"
      ],
      "text/plain": [
       "                   Aucun niveau Niveau primaire Niveau secondaire\n",
       "Effectifs          79.0         56.0            74.0             \n",
       "Pourcentage        31.6         22.4            29.6             \n",
       "Valeurs manquantes  0.0          0.0             0.0             \n",
       "                   Niveau Superieur\n",
       "Effectifs          41.0            \n",
       "Pourcentage        16.4            \n",
       "Valeurs manquantes  0.0            "
      ]
     },
     "metadata": {},
     "output_type": "display_data"
    }
   ],
   "source": [
    "repartition(\"q25\")"
   ]
  },
  {
   "cell_type": "code",
   "execution_count": 30,
   "id": "6a2e0609-ed3f-4564-8b0e-333328b720fc",
   "metadata": {
    "tags": []
   },
   "outputs": [],
   "source": [
    "#-------- Repartition des PME suivant le statu juridique"
   ]
  },
  {
   "cell_type": "code",
   "execution_count": 31,
   "id": "9240d269-11f4-4cb9-bf42-59e168a1c153",
   "metadata": {
    "tags": []
   },
   "outputs": [
    {
     "data": {
      "text/html": [
       "<table class=\"dataframe\">\n",
       "<caption>A data.frame: 3 × 6</caption>\n",
       "<thead>\n",
       "\t<tr><th></th><th scope=col>Association</th><th scope=col>GIE</th><th scope=col>Informel</th><th scope=col>SA</th><th scope=col>SARL</th><th scope=col>SUARL</th></tr>\n",
       "\t<tr><th></th><th scope=col>&lt;dbl&gt;</th><th scope=col>&lt;dbl&gt;</th><th scope=col>&lt;dbl&gt;</th><th scope=col>&lt;dbl&gt;</th><th scope=col>&lt;dbl&gt;</th><th scope=col>&lt;dbl&gt;</th></tr>\n",
       "</thead>\n",
       "<tbody>\n",
       "\t<tr><th scope=row>Effectifs</th><td>6.0</td><td>179.0</td><td>38.0</td><td>7.0</td><td>13.0</td><td>7.0</td></tr>\n",
       "\t<tr><th scope=row>Pourcentage</th><td>2.4</td><td> 71.6</td><td>15.2</td><td>2.8</td><td> 5.2</td><td>2.8</td></tr>\n",
       "\t<tr><th scope=row>Valeurs manquantes</th><td>0.0</td><td>  0.0</td><td> 0.0</td><td>0.0</td><td> 0.0</td><td>0.0</td></tr>\n",
       "</tbody>\n",
       "</table>\n"
      ],
      "text/latex": [
       "A data.frame: 3 × 6\n",
       "\\begin{tabular}{r|llllll}\n",
       "  & Association & GIE & Informel & SA & SARL & SUARL\\\\\n",
       "  & <dbl> & <dbl> & <dbl> & <dbl> & <dbl> & <dbl>\\\\\n",
       "\\hline\n",
       "\tEffectifs & 6.0 & 179.0 & 38.0 & 7.0 & 13.0 & 7.0\\\\\n",
       "\tPourcentage & 2.4 &  71.6 & 15.2 & 2.8 &  5.2 & 2.8\\\\\n",
       "\tValeurs manquantes & 0.0 &   0.0 &  0.0 & 0.0 &  0.0 & 0.0\\\\\n",
       "\\end{tabular}\n"
      ],
      "text/markdown": [
       "\n",
       "A data.frame: 3 × 6\n",
       "\n",
       "| <!--/--> | Association &lt;dbl&gt; | GIE &lt;dbl&gt; | Informel &lt;dbl&gt; | SA &lt;dbl&gt; | SARL &lt;dbl&gt; | SUARL &lt;dbl&gt; |\n",
       "|---|---|---|---|---|---|---|\n",
       "| Effectifs | 6.0 | 179.0 | 38.0 | 7.0 | 13.0 | 7.0 |\n",
       "| Pourcentage | 2.4 |  71.6 | 15.2 | 2.8 |  5.2 | 2.8 |\n",
       "| Valeurs manquantes | 0.0 |   0.0 |  0.0 | 0.0 |  0.0 | 0.0 |\n",
       "\n"
      ],
      "text/plain": [
       "                   Association GIE   Informel SA  SARL SUARL\n",
       "Effectifs          6.0         179.0 38.0     7.0 13.0 7.0  \n",
       "Pourcentage        2.4          71.6 15.2     2.8  5.2 2.8  \n",
       "Valeurs manquantes 0.0           0.0  0.0     0.0  0.0 0.0  "
      ]
     },
     "metadata": {},
     "output_type": "display_data"
    }
   ],
   "source": [
    "repartition(\"q12\")"
   ]
  },
  {
   "cell_type": "code",
   "execution_count": 32,
   "id": "e71cdc5b-68ab-484c-895c-8a5396f2abe2",
   "metadata": {
    "tags": []
   },
   "outputs": [],
   "source": [
    "#-------- Repartition des PME suivant le statu <<proprietaire ou locataire>>"
   ]
  },
  {
   "cell_type": "code",
   "execution_count": 33,
   "id": "79d38bbe-836d-41e5-9397-7773d3c366dc",
   "metadata": {
    "tags": []
   },
   "outputs": [
    {
     "data": {
      "text/html": [
       "<table class=\"dataframe\">\n",
       "<caption>A data.frame: 3 × 2</caption>\n",
       "<thead>\n",
       "\t<tr><th></th><th scope=col>Locataire</th><th scope=col>Propriétaire</th></tr>\n",
       "\t<tr><th></th><th scope=col>&lt;dbl&gt;</th><th scope=col>&lt;dbl&gt;</th></tr>\n",
       "</thead>\n",
       "<tbody>\n",
       "\t<tr><th scope=row>Effectifs</th><td>24.0</td><td>226.0</td></tr>\n",
       "\t<tr><th scope=row>Pourcentage</th><td> 9.6</td><td> 90.4</td></tr>\n",
       "\t<tr><th scope=row>Valeurs manquantes</th><td> 0.0</td><td>  0.0</td></tr>\n",
       "</tbody>\n",
       "</table>\n"
      ],
      "text/latex": [
       "A data.frame: 3 × 2\n",
       "\\begin{tabular}{r|ll}\n",
       "  & Locataire & Propriétaire\\\\\n",
       "  & <dbl> & <dbl>\\\\\n",
       "\\hline\n",
       "\tEffectifs & 24.0 & 226.0\\\\\n",
       "\tPourcentage &  9.6 &  90.4\\\\\n",
       "\tValeurs manquantes &  0.0 &   0.0\\\\\n",
       "\\end{tabular}\n"
      ],
      "text/markdown": [
       "\n",
       "A data.frame: 3 × 2\n",
       "\n",
       "| <!--/--> | Locataire &lt;dbl&gt; | Propriétaire &lt;dbl&gt; |\n",
       "|---|---|---|\n",
       "| Effectifs | 24.0 | 226.0 |\n",
       "| Pourcentage |  9.6 |  90.4 |\n",
       "| Valeurs manquantes |  0.0 |   0.0 |\n",
       "\n"
      ],
      "text/plain": [
       "                   Locataire Propriétaire\n",
       "Effectifs          24.0      226.0       \n",
       "Pourcentage         9.6       90.4       \n",
       "Valeurs manquantes  0.0        0.0       "
      ]
     },
     "metadata": {},
     "output_type": "display_data"
    }
   ],
   "source": [
    "repartition(\"q81\")"
   ]
  },
  {
   "cell_type": "code",
   "execution_count": 34,
   "id": "fcee1809-845d-4768-b4f6-59d2b40d114a",
   "metadata": {
    "tags": []
   },
   "outputs": [],
   "source": [
    "#-------- repartition des PME suivant le statu juridique et le sexe"
   ]
  },
  {
   "cell_type": "code",
   "execution_count": 35,
   "id": "8b227b23-1c78-470e-9539-6b7786c3847d",
   "metadata": {
    "tags": []
   },
   "outputs": [],
   "source": [
    "# on cree une nouvelle variable en <<collant>> pour chaque PME<< sexe et statu juridique >>\n",
    "projet_tmp<-projet%>%\n",
    "    mutate(var_tmp=paste(sexe,q12,sep=\" et \"))"
   ]
  },
  {
   "cell_type": "code",
   "execution_count": 36,
   "id": "81fda402-ec13-4992-82a9-00badd9100bd",
   "metadata": {
    "tags": []
   },
   "outputs": [
    {
     "data": {
      "text/html": [
       "<table class=\"dataframe\">\n",
       "<caption>A data.frame: 3 × 12</caption>\n",
       "<thead>\n",
       "\t<tr><th></th><th scope=col>Femme et Association</th><th scope=col>Femme et GIE</th><th scope=col>Femme et Informel</th><th scope=col>Femme et SA</th><th scope=col>Femme et SARL</th><th scope=col>Femme et SUARL</th><th scope=col>Homme et Association</th><th scope=col>Homme et GIE</th><th scope=col>Homme et Informel</th><th scope=col>Homme et SA</th><th scope=col>Homme et SARL</th><th scope=col>Homme et SUARL</th></tr>\n",
       "\t<tr><th></th><th scope=col>&lt;dbl&gt;</th><th scope=col>&lt;dbl&gt;</th><th scope=col>&lt;dbl&gt;</th><th scope=col>&lt;dbl&gt;</th><th scope=col>&lt;dbl&gt;</th><th scope=col>&lt;dbl&gt;</th><th scope=col>&lt;dbl&gt;</th><th scope=col>&lt;dbl&gt;</th><th scope=col>&lt;dbl&gt;</th><th scope=col>&lt;dbl&gt;</th><th scope=col>&lt;dbl&gt;</th><th scope=col>&lt;dbl&gt;</th></tr>\n",
       "</thead>\n",
       "<tbody>\n",
       "\t<tr><th scope=row>Effectifs</th><td>3.0</td><td>149.0</td><td>32.0</td><td>1.0</td><td>2.0</td><td>4.0</td><td>3.0</td><td>30</td><td>6.0</td><td>6.0</td><td>11.0</td><td>3.0</td></tr>\n",
       "\t<tr><th scope=row>Pourcentage</th><td>1.2</td><td> 59.6</td><td>12.8</td><td>0.4</td><td>0.8</td><td>1.6</td><td>1.2</td><td>12</td><td>2.4</td><td>2.4</td><td> 4.4</td><td>1.2</td></tr>\n",
       "\t<tr><th scope=row>Valeurs manquantes</th><td>0.0</td><td>  0.0</td><td> 0.0</td><td>0.0</td><td>0.0</td><td>0.0</td><td>0.0</td><td> 0</td><td>0.0</td><td>0.0</td><td> 0.0</td><td>0.0</td></tr>\n",
       "</tbody>\n",
       "</table>\n"
      ],
      "text/latex": [
       "A data.frame: 3 × 12\n",
       "\\begin{tabular}{r|llllllllllll}\n",
       "  & Femme et Association & Femme et GIE & Femme et Informel & Femme et SA & Femme et SARL & Femme et SUARL & Homme et Association & Homme et GIE & Homme et Informel & Homme et SA & Homme et SARL & Homme et SUARL\\\\\n",
       "  & <dbl> & <dbl> & <dbl> & <dbl> & <dbl> & <dbl> & <dbl> & <dbl> & <dbl> & <dbl> & <dbl> & <dbl>\\\\\n",
       "\\hline\n",
       "\tEffectifs & 3.0 & 149.0 & 32.0 & 1.0 & 2.0 & 4.0 & 3.0 & 30 & 6.0 & 6.0 & 11.0 & 3.0\\\\\n",
       "\tPourcentage & 1.2 &  59.6 & 12.8 & 0.4 & 0.8 & 1.6 & 1.2 & 12 & 2.4 & 2.4 &  4.4 & 1.2\\\\\n",
       "\tValeurs manquantes & 0.0 &   0.0 &  0.0 & 0.0 & 0.0 & 0.0 & 0.0 &  0 & 0.0 & 0.0 &  0.0 & 0.0\\\\\n",
       "\\end{tabular}\n"
      ],
      "text/markdown": [
       "\n",
       "A data.frame: 3 × 12\n",
       "\n",
       "| <!--/--> | Femme et Association &lt;dbl&gt; | Femme et GIE &lt;dbl&gt; | Femme et Informel &lt;dbl&gt; | Femme et SA &lt;dbl&gt; | Femme et SARL &lt;dbl&gt; | Femme et SUARL &lt;dbl&gt; | Homme et Association &lt;dbl&gt; | Homme et GIE &lt;dbl&gt; | Homme et Informel &lt;dbl&gt; | Homme et SA &lt;dbl&gt; | Homme et SARL &lt;dbl&gt; | Homme et SUARL &lt;dbl&gt; |\n",
       "|---|---|---|---|---|---|---|---|---|---|---|---|---|\n",
       "| Effectifs | 3.0 | 149.0 | 32.0 | 1.0 | 2.0 | 4.0 | 3.0 | 30 | 6.0 | 6.0 | 11.0 | 3.0 |\n",
       "| Pourcentage | 1.2 |  59.6 | 12.8 | 0.4 | 0.8 | 1.6 | 1.2 | 12 | 2.4 | 2.4 |  4.4 | 1.2 |\n",
       "| Valeurs manquantes | 0.0 |   0.0 |  0.0 | 0.0 | 0.0 | 0.0 | 0.0 |  0 | 0.0 | 0.0 |  0.0 | 0.0 |\n",
       "\n"
      ],
      "text/plain": [
       "                   Femme et Association Femme et GIE Femme et Informel\n",
       "Effectifs          3.0                  149.0        32.0             \n",
       "Pourcentage        1.2                   59.6        12.8             \n",
       "Valeurs manquantes 0.0                    0.0         0.0             \n",
       "                   Femme et SA Femme et SARL Femme et SUARL\n",
       "Effectifs          1.0         2.0           4.0           \n",
       "Pourcentage        0.4         0.8           1.6           \n",
       "Valeurs manquantes 0.0         0.0           0.0           \n",
       "                   Homme et Association Homme et GIE Homme et Informel\n",
       "Effectifs          3.0                  30           6.0              \n",
       "Pourcentage        1.2                  12           2.4              \n",
       "Valeurs manquantes 0.0                   0           0.0              \n",
       "                   Homme et SA Homme et SARL Homme et SUARL\n",
       "Effectifs          6.0         11.0          3.0           \n",
       "Pourcentage        2.4          4.4          1.2           \n",
       "Valeurs manquantes 0.0          0.0          0.0           "
      ]
     },
     "metadata": {},
     "output_type": "display_data"
    }
   ],
   "source": [
    "repartition(\"var_tmp\",projet_=projet_tmp)"
   ]
  },
  {
   "cell_type": "code",
   "execution_count": 37,
   "id": "dea16f79-e52d-458f-90a5-6edfd48cde20",
   "metadata": {
    "tags": []
   },
   "outputs": [],
   "source": [
    "#-------- repartition des PME suivant le niveau d'instruction et le sexe"
   ]
  },
  {
   "cell_type": "code",
   "execution_count": 38,
   "id": "ad209748-3f9b-4ff2-a192-e16027cc6c62",
   "metadata": {
    "tags": []
   },
   "outputs": [],
   "source": [
    "# analogue au precedent"
   ]
  },
  {
   "cell_type": "code",
   "execution_count": 39,
   "id": "0168c6d1-6280-470e-ae08-932303ca6383",
   "metadata": {
    "tags": []
   },
   "outputs": [],
   "source": [
    "projet_tmp<-projet%>%\n",
    "    mutate(var_tmp=paste(q25,q12,sep=\" et \"))"
   ]
  },
  {
   "cell_type": "code",
   "execution_count": 40,
   "id": "e77b68e3-285e-4538-a58e-df103e8602a4",
   "metadata": {
    "tags": []
   },
   "outputs": [
    {
     "data": {
      "text/html": [
       "<table class=\"dataframe\">\n",
       "<caption>A data.frame: 3 × 19</caption>\n",
       "<thead>\n",
       "\t<tr><th></th><th scope=col>Aucun niveau et Association</th><th scope=col>Aucun niveau et GIE</th><th scope=col>Aucun niveau et Informel</th><th scope=col>Aucun niveau et SA</th><th scope=col>Aucun niveau et SARL</th><th scope=col>Niveau primaire et Association</th><th scope=col>Niveau primaire et GIE</th><th scope=col>Niveau primaire et Informel</th><th scope=col>Niveau primaire et SARL</th><th scope=col>Niveau primaire et SUARL</th><th scope=col>Niveau secondaire et Association</th><th scope=col>Niveau secondaire et GIE</th><th scope=col>Niveau secondaire et Informel</th><th scope=col>Niveau secondaire et SARL</th><th scope=col>Niveau Superieur et Association</th><th scope=col>Niveau Superieur et GIE</th><th scope=col>Niveau Superieur et SA</th><th scope=col>Niveau Superieur et SARL</th><th scope=col>Niveau Superieur et SUARL</th></tr>\n",
       "\t<tr><th></th><th scope=col>&lt;dbl&gt;</th><th scope=col>&lt;dbl&gt;</th><th scope=col>&lt;dbl&gt;</th><th scope=col>&lt;dbl&gt;</th><th scope=col>&lt;dbl&gt;</th><th scope=col>&lt;dbl&gt;</th><th scope=col>&lt;dbl&gt;</th><th scope=col>&lt;dbl&gt;</th><th scope=col>&lt;dbl&gt;</th><th scope=col>&lt;dbl&gt;</th><th scope=col>&lt;dbl&gt;</th><th scope=col>&lt;dbl&gt;</th><th scope=col>&lt;dbl&gt;</th><th scope=col>&lt;dbl&gt;</th><th scope=col>&lt;dbl&gt;</th><th scope=col>&lt;dbl&gt;</th><th scope=col>&lt;dbl&gt;</th><th scope=col>&lt;dbl&gt;</th><th scope=col>&lt;dbl&gt;</th></tr>\n",
       "</thead>\n",
       "<tbody>\n",
       "\t<tr><th scope=row>Effectifs</th><td>1.0</td><td>47.0</td><td>27.0</td><td>1.0</td><td>3.0</td><td>1.0</td><td>47.0</td><td>5</td><td>1.0</td><td>2.0</td><td>2.0</td><td>64.0</td><td>6.0</td><td>2.0</td><td>2.0</td><td>21.0</td><td>6.0</td><td>7.0</td><td>5</td></tr>\n",
       "\t<tr><th scope=row>Pourcentage</th><td>0.4</td><td>18.8</td><td>10.8</td><td>0.4</td><td>1.2</td><td>0.4</td><td>18.8</td><td>2</td><td>0.4</td><td>0.8</td><td>0.8</td><td>25.6</td><td>2.4</td><td>0.8</td><td>0.8</td><td> 8.4</td><td>2.4</td><td>2.8</td><td>2</td></tr>\n",
       "\t<tr><th scope=row>Valeurs manquantes</th><td>0.0</td><td> 0.0</td><td> 0.0</td><td>0.0</td><td>0.0</td><td>0.0</td><td> 0.0</td><td>0</td><td>0.0</td><td>0.0</td><td>0.0</td><td> 0.0</td><td>0.0</td><td>0.0</td><td>0.0</td><td> 0.0</td><td>0.0</td><td>0.0</td><td>0</td></tr>\n",
       "</tbody>\n",
       "</table>\n"
      ],
      "text/latex": [
       "A data.frame: 3 × 19\n",
       "\\begin{tabular}{r|lllllllllllllllllll}\n",
       "  & Aucun niveau et Association & Aucun niveau et GIE & Aucun niveau et Informel & Aucun niveau et SA & Aucun niveau et SARL & Niveau primaire et Association & Niveau primaire et GIE & Niveau primaire et Informel & Niveau primaire et SARL & Niveau primaire et SUARL & Niveau secondaire et Association & Niveau secondaire et GIE & Niveau secondaire et Informel & Niveau secondaire et SARL & Niveau Superieur et Association & Niveau Superieur et GIE & Niveau Superieur et SA & Niveau Superieur et SARL & Niveau Superieur et SUARL\\\\\n",
       "  & <dbl> & <dbl> & <dbl> & <dbl> & <dbl> & <dbl> & <dbl> & <dbl> & <dbl> & <dbl> & <dbl> & <dbl> & <dbl> & <dbl> & <dbl> & <dbl> & <dbl> & <dbl> & <dbl>\\\\\n",
       "\\hline\n",
       "\tEffectifs & 1.0 & 47.0 & 27.0 & 1.0 & 3.0 & 1.0 & 47.0 & 5 & 1.0 & 2.0 & 2.0 & 64.0 & 6.0 & 2.0 & 2.0 & 21.0 & 6.0 & 7.0 & 5\\\\\n",
       "\tPourcentage & 0.4 & 18.8 & 10.8 & 0.4 & 1.2 & 0.4 & 18.8 & 2 & 0.4 & 0.8 & 0.8 & 25.6 & 2.4 & 0.8 & 0.8 &  8.4 & 2.4 & 2.8 & 2\\\\\n",
       "\tValeurs manquantes & 0.0 &  0.0 &  0.0 & 0.0 & 0.0 & 0.0 &  0.0 & 0 & 0.0 & 0.0 & 0.0 &  0.0 & 0.0 & 0.0 & 0.0 &  0.0 & 0.0 & 0.0 & 0\\\\\n",
       "\\end{tabular}\n"
      ],
      "text/markdown": [
       "\n",
       "A data.frame: 3 × 19\n",
       "\n",
       "| <!--/--> | Aucun niveau et Association &lt;dbl&gt; | Aucun niveau et GIE &lt;dbl&gt; | Aucun niveau et Informel &lt;dbl&gt; | Aucun niveau et SA &lt;dbl&gt; | Aucun niveau et SARL &lt;dbl&gt; | Niveau primaire et Association &lt;dbl&gt; | Niveau primaire et GIE &lt;dbl&gt; | Niveau primaire et Informel &lt;dbl&gt; | Niveau primaire et SARL &lt;dbl&gt; | Niveau primaire et SUARL &lt;dbl&gt; | Niveau secondaire et Association &lt;dbl&gt; | Niveau secondaire et GIE &lt;dbl&gt; | Niveau secondaire et Informel &lt;dbl&gt; | Niveau secondaire et SARL &lt;dbl&gt; | Niveau Superieur et Association &lt;dbl&gt; | Niveau Superieur et GIE &lt;dbl&gt; | Niveau Superieur et SA &lt;dbl&gt; | Niveau Superieur et SARL &lt;dbl&gt; | Niveau Superieur et SUARL &lt;dbl&gt; |\n",
       "|---|---|---|---|---|---|---|---|---|---|---|---|---|---|---|---|---|---|---|---|\n",
       "| Effectifs | 1.0 | 47.0 | 27.0 | 1.0 | 3.0 | 1.0 | 47.0 | 5 | 1.0 | 2.0 | 2.0 | 64.0 | 6.0 | 2.0 | 2.0 | 21.0 | 6.0 | 7.0 | 5 |\n",
       "| Pourcentage | 0.4 | 18.8 | 10.8 | 0.4 | 1.2 | 0.4 | 18.8 | 2 | 0.4 | 0.8 | 0.8 | 25.6 | 2.4 | 0.8 | 0.8 |  8.4 | 2.4 | 2.8 | 2 |\n",
       "| Valeurs manquantes | 0.0 |  0.0 |  0.0 | 0.0 | 0.0 | 0.0 |  0.0 | 0 | 0.0 | 0.0 | 0.0 |  0.0 | 0.0 | 0.0 | 0.0 |  0.0 | 0.0 | 0.0 | 0 |\n",
       "\n"
      ],
      "text/plain": [
       "                   Aucun niveau et Association Aucun niveau et GIE\n",
       "Effectifs          1.0                         47.0               \n",
       "Pourcentage        0.4                         18.8               \n",
       "Valeurs manquantes 0.0                          0.0               \n",
       "                   Aucun niveau et Informel Aucun niveau et SA\n",
       "Effectifs          27.0                     1.0               \n",
       "Pourcentage        10.8                     0.4               \n",
       "Valeurs manquantes  0.0                     0.0               \n",
       "                   Aucun niveau et SARL Niveau primaire et Association\n",
       "Effectifs          3.0                  1.0                           \n",
       "Pourcentage        1.2                  0.4                           \n",
       "Valeurs manquantes 0.0                  0.0                           \n",
       "                   Niveau primaire et GIE Niveau primaire et Informel\n",
       "Effectifs          47.0                   5                          \n",
       "Pourcentage        18.8                   2                          \n",
       "Valeurs manquantes  0.0                   0                          \n",
       "                   Niveau primaire et SARL Niveau primaire et SUARL\n",
       "Effectifs          1.0                     2.0                     \n",
       "Pourcentage        0.4                     0.8                     \n",
       "Valeurs manquantes 0.0                     0.0                     \n",
       "                   Niveau secondaire et Association Niveau secondaire et GIE\n",
       "Effectifs          2.0                              64.0                    \n",
       "Pourcentage        0.8                              25.6                    \n",
       "Valeurs manquantes 0.0                               0.0                    \n",
       "                   Niveau secondaire et Informel Niveau secondaire et SARL\n",
       "Effectifs          6.0                           2.0                      \n",
       "Pourcentage        2.4                           0.8                      \n",
       "Valeurs manquantes 0.0                           0.0                      \n",
       "                   Niveau Superieur et Association Niveau Superieur et GIE\n",
       "Effectifs          2.0                             21.0                   \n",
       "Pourcentage        0.8                              8.4                   \n",
       "Valeurs manquantes 0.0                              0.0                   \n",
       "                   Niveau Superieur et SA Niveau Superieur et SARL\n",
       "Effectifs          6.0                    7.0                     \n",
       "Pourcentage        2.4                    2.8                     \n",
       "Valeurs manquantes 0.0                    0.0                     \n",
       "                   Niveau Superieur et SUARL\n",
       "Effectifs          5                        \n",
       "Pourcentage        2                        \n",
       "Valeurs manquantes 0                        "
      ]
     },
     "metadata": {},
     "output_type": "display_data"
    }
   ],
   "source": [
    "repartition(\"var_tmp\",projet_=projet_tmp)"
   ]
  },
  {
   "cell_type": "code",
   "execution_count": 41,
   "id": "aa4d4ee0-ba72-4b2c-8ced-0b8a77dab856",
   "metadata": {
    "tags": []
   },
   "outputs": [],
   "source": [
    "# -------- repartition des PME suivant le statu <<proprietaire/locataire>> et le sexe"
   ]
  },
  {
   "cell_type": "code",
   "execution_count": 42,
   "id": "780fed69-22cc-48d9-a6a5-fc3f08f994ea",
   "metadata": {
    "tags": []
   },
   "outputs": [],
   "source": [
    "# Les trois questions ci haut sont analogue,une boucle for semble faire l'affaire mais les tableau generer sont moche et print() n'aide pas"
   ]
  },
  {
   "cell_type": "code",
   "execution_count": 43,
   "id": "9e8c8c95-4056-4e52-bf8b-d5527cc15578",
   "metadata": {
    "tags": []
   },
   "outputs": [],
   "source": [
    "projet_tmp<-projet%>%\n",
    "    mutate(var_tmp=paste(q81,q12,sep=\" et \"))"
   ]
  },
  {
   "cell_type": "code",
   "execution_count": 44,
   "id": "b24c11ce-4e05-4253-9ef9-c89fd086ff88",
   "metadata": {
    "tags": []
   },
   "outputs": [
    {
     "data": {
      "text/html": [
       "<table class=\"dataframe\">\n",
       "<caption>A data.frame: 3 × 10</caption>\n",
       "<thead>\n",
       "\t<tr><th></th><th scope=col>Locataire et GIE</th><th scope=col>Locataire et SA</th><th scope=col>Locataire et SARL</th><th scope=col>Locataire et SUARL</th><th scope=col>Propriétaire et Association</th><th scope=col>Propriétaire et GIE</th><th scope=col>Propriétaire et Informel</th><th scope=col>Propriétaire et SA</th><th scope=col>Propriétaire et SARL</th><th scope=col>Propriétaire et SUARL</th></tr>\n",
       "\t<tr><th></th><th scope=col>&lt;dbl&gt;</th><th scope=col>&lt;dbl&gt;</th><th scope=col>&lt;dbl&gt;</th><th scope=col>&lt;dbl&gt;</th><th scope=col>&lt;dbl&gt;</th><th scope=col>&lt;dbl&gt;</th><th scope=col>&lt;dbl&gt;</th><th scope=col>&lt;dbl&gt;</th><th scope=col>&lt;dbl&gt;</th><th scope=col>&lt;dbl&gt;</th></tr>\n",
       "</thead>\n",
       "<tbody>\n",
       "\t<tr><th scope=row>Effectifs</th><td>17.0</td><td>1.0</td><td>3.0</td><td>3.0</td><td>6.0</td><td>162.0</td><td>38.0</td><td>6.0</td><td>10</td><td>4.0</td></tr>\n",
       "\t<tr><th scope=row>Pourcentage</th><td> 6.8</td><td>0.4</td><td>1.2</td><td>1.2</td><td>2.4</td><td> 64.8</td><td>15.2</td><td>2.4</td><td> 4</td><td>1.6</td></tr>\n",
       "\t<tr><th scope=row>Valeurs manquantes</th><td> 0.0</td><td>0.0</td><td>0.0</td><td>0.0</td><td>0.0</td><td>  0.0</td><td> 0.0</td><td>0.0</td><td> 0</td><td>0.0</td></tr>\n",
       "</tbody>\n",
       "</table>\n"
      ],
      "text/latex": [
       "A data.frame: 3 × 10\n",
       "\\begin{tabular}{r|llllllllll}\n",
       "  & Locataire et GIE & Locataire et SA & Locataire et SARL & Locataire et SUARL & Propriétaire et Association & Propriétaire et GIE & Propriétaire et Informel & Propriétaire et SA & Propriétaire et SARL & Propriétaire et SUARL\\\\\n",
       "  & <dbl> & <dbl> & <dbl> & <dbl> & <dbl> & <dbl> & <dbl> & <dbl> & <dbl> & <dbl>\\\\\n",
       "\\hline\n",
       "\tEffectifs & 17.0 & 1.0 & 3.0 & 3.0 & 6.0 & 162.0 & 38.0 & 6.0 & 10 & 4.0\\\\\n",
       "\tPourcentage &  6.8 & 0.4 & 1.2 & 1.2 & 2.4 &  64.8 & 15.2 & 2.4 &  4 & 1.6\\\\\n",
       "\tValeurs manquantes &  0.0 & 0.0 & 0.0 & 0.0 & 0.0 &   0.0 &  0.0 & 0.0 &  0 & 0.0\\\\\n",
       "\\end{tabular}\n"
      ],
      "text/markdown": [
       "\n",
       "A data.frame: 3 × 10\n",
       "\n",
       "| <!--/--> | Locataire et GIE &lt;dbl&gt; | Locataire et SA &lt;dbl&gt; | Locataire et SARL &lt;dbl&gt; | Locataire et SUARL &lt;dbl&gt; | Propriétaire et Association &lt;dbl&gt; | Propriétaire et GIE &lt;dbl&gt; | Propriétaire et Informel &lt;dbl&gt; | Propriétaire et SA &lt;dbl&gt; | Propriétaire et SARL &lt;dbl&gt; | Propriétaire et SUARL &lt;dbl&gt; |\n",
       "|---|---|---|---|---|---|---|---|---|---|---|\n",
       "| Effectifs | 17.0 | 1.0 | 3.0 | 3.0 | 6.0 | 162.0 | 38.0 | 6.0 | 10 | 4.0 |\n",
       "| Pourcentage |  6.8 | 0.4 | 1.2 | 1.2 | 2.4 |  64.8 | 15.2 | 2.4 |  4 | 1.6 |\n",
       "| Valeurs manquantes |  0.0 | 0.0 | 0.0 | 0.0 | 0.0 |   0.0 |  0.0 | 0.0 |  0 | 0.0 |\n",
       "\n"
      ],
      "text/plain": [
       "                   Locataire et GIE Locataire et SA Locataire et SARL\n",
       "Effectifs          17.0             1.0             3.0              \n",
       "Pourcentage         6.8             0.4             1.2              \n",
       "Valeurs manquantes  0.0             0.0             0.0              \n",
       "                   Locataire et SUARL Propriétaire et Association\n",
       "Effectifs          3.0                6.0                        \n",
       "Pourcentage        1.2                2.4                        \n",
       "Valeurs manquantes 0.0                0.0                        \n",
       "                   Propriétaire et GIE Propriétaire et Informel\n",
       "Effectifs          162.0               38.0                    \n",
       "Pourcentage         64.8               15.2                    \n",
       "Valeurs manquantes   0.0                0.0                    \n",
       "                   Propriétaire et SA Propriétaire et SARL\n",
       "Effectifs          6.0                10                  \n",
       "Pourcentage        2.4                 4                  \n",
       "Valeurs manquantes 0.0                 0                  \n",
       "                   Propriétaire et SUARL\n",
       "Effectifs          4.0                  \n",
       "Pourcentage        1.6                  \n",
       "Valeurs manquantes 0.0                  "
      ]
     },
     "metadata": {},
     "output_type": "display_data"
    }
   ],
   "source": [
    "repartition(\"var_tmp\",projet_=projet_tmp)"
   ]
  },
  {
   "cell_type": "markdown",
   "id": "e6a818b7-7a71-49da-90b3-4fbc39b61072",
   "metadata": {
    "tags": []
   },
   "source": [
    "## Faite les statistiques descriptives de votre choix sur les autres variables"
   ]
  },
  {
   "cell_type": "markdown",
   "id": "7af0ed3f-fff8-4307-8955-8b5de98d0844",
   "metadata": {
    "tags": []
   },
   "source": [
    "### Statistique univarie"
   ]
  },
  {
   "cell_type": "code",
   "execution_count": 45,
   "id": "5ce4927e-e34a-474a-9e9b-27cb2e34bd8c",
   "metadata": {
    "tags": []
   },
   "outputs": [],
   "source": [
    " # ----------------------------- # ? universe ne fonctionne pas sous jupyterlab !?"
   ]
  },
  {
   "cell_type": "code",
   "execution_count": 46,
   "id": "a4e71a1b-fd9b-4c45-8b07-130178ad8058",
   "metadata": {
    "tags": []
   },
   "outputs": [],
   "source": [
    "#' Analyse univariée d'une variable dans un ensemble de données\n",
    "#'\n",
    "#' Cette fonction effectue une analyse univariée d'une variable dans un ensemble de données, y compris le calcul de statistiques descriptives et la création de visualisations.\n",
    "#'\n",
    "#' @param var Le nom de la variable à analyser.\n",
    "#' @param projet_ Le data frame contenant les données à analyser (par défaut, il est attendu que le data frame s'appelle \"projet\").\n",
    "#' @param statistiques Un vecteur contenant les statistiques descriptives à calculer (par défaut : c(\"mean\", \"median\", \"mode\", \"sd\", \"var\", \"range\", \"quantiles\")).\n",
    "#' @param tableau Indique si un tableau des effectifs doit être généré (par défaut : FALSE).\n",
    "#' @param nb_intervalles Le nombre d'intervalles à utiliser pour le tableau des effectifs (par défaut : NULL).\n",
    "#' @param histogramme Indique si un histogramme doit être tracé (par défaut : FALSE).\n",
    "#' @param densite Indique si un graphique de densité doit être tracé (par défaut : FALSE).\n",
    "#' @param boite_moustache Indique si un diagramme en boîte et moustaches doit être tracé (par défaut : FALSE).\n",
    "#' @param diagramme_baton Indique si un diagramme à bâtons doit être tracé pour les variables catégorielles (par défaut : FALSE).\n",
    "#' @param diagramme_circulaire Indique si un diagramme circulaire doit être tracé pour les variables catégorielles (par défaut : FALSE).\n",
    "#' @return Une liste contenant les résultats des calculs et éventuellement le tableau des effectifs.\n",
    "#' @examples\n",
    "#' # Analyse univariée d'une variable numérique\n",
    "#' univarie(\"age\", projet = my_data_frame, histogramme = TRUE)\n",
    "#'\n",
    "#' # Analyse univariée d'une variable catégorielle\n",
    "#' univarie(\"genre\", projet = my_data_frame, diagramme_baton = TRUE)\n",
    "#'\n",
    "#' @export\n",
    "univarie<-function(var,\n",
    "                    projet_=projet,statistiques = c(\"mean\", \"median\", \"mode\", \"sd\", \"var\", \"range\", \"quantiles\"),\n",
    "                    tableau=FALSE,\n",
    "                    nb_intervalles = NULL,\n",
    "                    histogramme=FALSE,\n",
    "                    densite=FALSE,\n",
    "                    boite_moustache=FALSE,\n",
    "                   diagramme_baton=FALSE,\n",
    "                   diagramme_circulaire=FALSE \n",
    "                   \n",
    "                  ){\n",
    "    resultats<-list()\n",
    "    tableau_effectifs<-NULL\n",
    "    # -----------------------------------------------------------------------------------------------------------------------\n",
    "    # Correction des valeurs abherentes (source de probleme pour la construction de graphiques (intervalles,...),etc)\n",
    "    if (is.numeric(projet_[[var]])) {\n",
    "        # Remplacer les valeurs extrêmes par la médiane\n",
    "        q1 <- quantile(projet_[[var]], 0.25, na.rm = TRUE)\n",
    "        q3 <- quantile(projet_[[var]], 0.75, na.rm = TRUE)\n",
    "        iqr <- q3 - q1\n",
    "        lower_bound <- q1 - 1.5 * iqr\n",
    "        upper_bound <- q3 + 1.5 * iqr\n",
    "        non_aberrant_values <- projet_[[var]]\n",
    "        non_aberrant_values[non_aberrant_values < lower_bound | non_aberrant_values > upper_bound] <- median(projet_[[var]], na.rm = TRUE)\n",
    "        projet_[[var]]<- non_aberrant_values \n",
    "    }\n",
    "    \n",
    "        #  --- pour les variables categorielle il faut faire une etude cas par cas et utilisant le type factor\n",
    "\n",
    "    \n",
    "    \n",
    "    # ----------------------------------------------------------------------------------------------\n",
    "    \n",
    "\n",
    "    if (!(var %in% names(projet_))) {\n",
    "            stop(\"La variable spécifiée n'existe pas dans le data.frame.\")\n",
    "    }\n",
    "    if (is.numeric(projet_[[var]])) {\n",
    "        # Calculs des ststistiques demandes\n",
    "        if (\"mean\" %in% statistiques) {\n",
    "            resultats$moyenne <- mean(projet_[[var]], na.rm = TRUE) # cas ou la base forunis est autre que projet\n",
    "          }\n",
    "        if (\"median\" %in% statistiques) {\n",
    "            resultats$mediane <- median(projet_[[var]], na.rm = TRUE)\n",
    "            }\n",
    "        if (\"mode\" %in% statistiques) {\n",
    "            resultats$mode <- as.numeric(names(sort(table(projet_[[var]]), decreasing = TRUE)[1])) # le mode c'est la plus grande valeur \n",
    "            }\n",
    "        if (\"sd\" %in% statistiques) {\n",
    "            resultats$Ecart_type <- sd(projet_[[var]], na.rm = TRUE)\n",
    "            }\n",
    "        if (\"var\" %in% statistiques) {\n",
    "            resultats$variance <- var(projet_[[var]], na.rm = TRUE)\n",
    "            }\n",
    "        if (\"range\" %in% statistiques) {\n",
    "            resultats$etendue <- range(projet_[[var]], na.rm = TRUE)\n",
    "            }\n",
    "        if (\"quantiles\" %in% statistiques) {\n",
    "            resultats$quantiles <- quantile(projet_[[var]], probs = c(0.25, 0.5, 0.75), na.rm = TRUE) #Q1,Q2 et Q3\n",
    "            }\n",
    "        if (histogramme){\n",
    "            hist(projet_[[var]], main = paste0(\"Repartition de \",var,sep=\" \"), xlab = var, ylab = \"Effectif\",col = rainbow(length(unique(projet_[[var]]))))\n",
    "            }\n",
    "        if (densite){\n",
    "            plot(density(projet_[[var]], na.rm = TRUE), main = paste(\"Repartition de \",var,sep=\" \"))\n",
    "            }\n",
    "         if (boite_moustache){\n",
    "             boxplot(projet_[[var]], main = paste(\"Repartition de \",var,sep=\" \"), ylab = \"Effectif\",col = rainbow(length(unique(projet_[[var]]))))\n",
    "            }\n",
    "        if (tableau){ # je traine avec ces complications (quantiles ...) car avant j'avais des valeurs abherentes donc ...\n",
    "            if (is.null(nb_intervalles)) {# plus bessoin de nb_intervalle ,les donnee abherentes sont suprimmme\n",
    "               # Les intervalles serons automatiquement decoupe(recommande)\n",
    "            # Calcul des quantiles\n",
    "            quantiles <- quantile(projet_[[var]],probs=seq(0, 1, by = 0.2))\n",
    "            # Utilisation des quantiles comme points de rupture pour la fonction cut()\n",
    "            intervalle <- cut(projet_[[var]], breaks=quantiles,include.lowest = TRUE)\n",
    "            # Tableau des effectifs pour chaque intervalle\n",
    "            tableau_effectifs <- table(intervalle)\n",
    "            tableau_effectifs <<-as.data.frame(tableau_effectifs) # rend la variable global ce qui facilite sa visualisation en mode console\n",
    "\n",
    "          } else {\n",
    "        intervalle <- cut(projet_[[var]], breaks = nb_intervalles,include.lowest = TRUE)\n",
    "             tableau_effectifs <- table(intervalle)\n",
    "                 \n",
    "            tableau_effectifs <<-as.data.frame(tableau_effectifs) # rend la variable global ce qui facilite sa visualisation en mode console\n",
    "        \n",
    "          }\n",
    "            }\n",
    "        print(\"--------------------------------------------------------------------------------------------------------------\")\n",
    "        resultats # a rendre global et a appeler sur la console\n",
    "        \n",
    "# ------------------------------------------- Pour les variables categorielles ---------------------------------------------------      \n",
    "    }else { # si la variable est de type str ou un factor\n",
    "        if (tableau) {\n",
    "          # Tableau des effectifs et pourcentages pour les variables catégorielles\n",
    "          tableau_effectifs <- as.data.frame(table(projet_[[var]]))\n",
    "          colnames(tableau_effectifs) <- c(\"Categorie\", \"Effectif\")\n",
    "          tableau_effectifs$Pourcentage <- tableau_effectifs$Effectif / sum(tableau_effectifs$Effectif) * 100\n",
    "          tableau_effectifs <<-as.data.frame(tableau_effectifs) # rend la variable global ce qui facilite sa visualisation en mode console\n",
    "        }\n",
    "        if (diagramme_baton) {\n",
    "          barplot(tableau_effectifs$Effectif, names.arg = tableau_effectifs$Categorie, main = paste0(\"Repartition de \", var), xlab = var, ylab = \"Effectif\")\n",
    "        }\n",
    "        if (diagramme_circulaire) {\n",
    "            pie(table(projet_[[var]]), main = paste0(\"Diagramme circulaire de \", var),col = rainbow(length(unique(projet_[[var]]))))\n",
    "        }\n",
    "  }\n",
    "\n",
    "}\n",
    "\n",
    "        \n",
    "    "
   ]
  },
  {
   "cell_type": "code",
   "execution_count": null,
   "id": "73268fc9-c4ce-4cb6-9725-908a2b875f54",
   "metadata": {
    "tags": []
   },
   "outputs": [],
   "source": []
  },
  {
   "cell_type": "code",
   "execution_count": 47,
   "id": "7fa79a3d-4613-4501-9909-8ab979d498a1",
   "metadata": {
    "tags": []
   },
   "outputs": [],
   "source": [
    "# ------------------------------------------------------------------- Teste pour les variables quantitatifs"
   ]
  },
  {
   "cell_type": "code",
   "execution_count": 48,
   "id": "c67680eb-81be-4f2b-9427-d224dcf12d8f",
   "metadata": {
    "tags": []
   },
   "outputs": [
    {
     "data": {
      "image/png": "[encoded data removed]",
      "text/plain": [
       "Plot with title \"Repartition de q24 \""
      ]
     },
     "metadata": {
      "image/png": {
       "height": 420,
       "width": 420
      }
     },
     "output_type": "display_data"
    },
    {
     "name": "stdout",
     "output_type": "stream",
     "text": [
      "[1] \"--------------------------------------------------------------------------------------------------------------\"\n"
     ]
    },
    {
     "data": {
      "text/html": [
       "<dl>\n",
       "\t<dt>$moyenne</dt>\n",
       "\t\t<dd>53.252</dd>\n",
       "\t<dt>$mediane</dt>\n",
       "\t\t<dd>55</dd>\n",
       "\t<dt>$mode</dt>\n",
       "\t\t<dd>45</dd>\n",
       "\t<dt>$Ecart_type</dt>\n",
       "\t\t<dd>11.1263506467691</dd>\n",
       "\t<dt>$variance</dt>\n",
       "\t\t<dd>123.795678714859</dd>\n",
       "\t<dt>$etendue</dt>\n",
       "\t\t<dd><style>\n",
       ".list-inline {list-style: none; margin:0; padding: 0}\n",
       ".list-inline>li {display: inline-block}\n",
       ".list-inline>li:not(:last-child)::after {content: \"\\00b7\"; padding: 0 .5ex}\n",
       "</style>\n",
       "<ol class=list-inline><li>26</li><li>80</li></ol>\n",
       "</dd>\n",
       "\t<dt>$quantiles</dt>\n",
       "\t\t<dd><style>\n",
       ".dl-inline {width: auto; margin:0; padding: 0}\n",
       ".dl-inline>dt, .dl-inline>dd {float: none; width: auto; display: inline-block}\n",
       ".dl-inline>dt::after {content: \":\\0020\"; padding-right: .5ex}\n",
       ".dl-inline>dt:not(:first-of-type) {padding-left: .5ex}\n",
       "</style><dl class=dl-inline><dt>25%</dt><dd>45</dd><dt>50%</dt><dd>55</dd><dt>75%</dt><dd>62</dd></dl>\n",
       "</dd>\n",
       "</dl>\n"
      ],
      "text/latex": [
       "\\begin{description}\n",
       "\\item[\\$moyenne] 53.252\n",
       "\\item[\\$mediane] 55\n",
       "\\item[\\$mode] 45\n",
       "\\item[\\$Ecart\\_type] 11.1263506467691\n",
       "\\item[\\$variance] 123.795678714859\n",
       "\\item[\\$etendue] \\begin{enumerate*}\n",
       "\\item 26\n",
       "\\item 80\n",
       "\\end{enumerate*}\n",
       "\n",
       "\\item[\\$quantiles] \\begin{description*}\n",
       "\\item[25\\textbackslash{}\\%] 45\n",
       "\\item[50\\textbackslash{}\\%] 55\n",
       "\\item[75\\textbackslash{}\\%] 62\n",
       "\\end{description*}\n",
       "\n",
       "\\end{description}\n"
      ],
      "text/markdown": [
       "$moyenne\n",
       ":   53.252\n",
       "$mediane\n",
       ":   55\n",
       "$mode\n",
       ":   45\n",
       "$Ecart_type\n",
       ":   11.1263506467691\n",
       "$variance\n",
       ":   123.795678714859\n",
       "$etendue\n",
       ":   1. 26\n",
       "2. 80\n",
       "\n",
       "\n",
       "\n",
       "$quantiles\n",
       ":   25%\n",
       ":   4550%\n",
       ":   5575%\n",
       ":   62\n",
       "\n",
       "\n",
       "\n",
       "\n"
      ],
      "text/plain": [
       "$moyenne\n",
       "[1] 53.252\n",
       "\n",
       "$mediane\n",
       "[1] 55\n",
       "\n",
       "$mode\n",
       "[1] 45\n",
       "\n",
       "$Ecart_type\n",
       "[1] 11.12635\n",
       "\n",
       "$variance\n",
       "[1] 123.7957\n",
       "\n",
       "$etendue\n",
       "[1] 26 80\n",
       "\n",
       "$quantiles\n",
       "25% 50% 75% \n",
       " 45  55  62 \n"
      ]
     },
     "metadata": {},
     "output_type": "display_data"
    },
    {
     "data": {
      "image/png": "[encoded data removed]",
      "text/plain": [
       "Plot with title \"Repartition de  q24\""
      ]
     },
     "metadata": {
      "image/png": {
       "height": 420,
       "width": 420
      }
     },
     "output_type": "display_data"
    }
   ],
   "source": [
    "univarie(\"q24\",tableau=TRUE,histogramme=TRUE,boite_moustache=TRUE)  # q24 == age"
   ]
  },
  {
   "cell_type": "code",
   "execution_count": 49,
   "id": "391ca830-c3f9-427b-afd6-6f1d9f4d8a4e",
   "metadata": {
    "tags": []
   },
   "outputs": [
    {
     "data": {
      "text/html": [
       "<table class=\"dataframe\">\n",
       "<caption>A data.frame: 5 × 2</caption>\n",
       "<thead>\n",
       "\t<tr><th scope=col>intervalle</th><th scope=col>Freq</th></tr>\n",
       "\t<tr><th scope=col>&lt;fct&gt;</th><th scope=col>&lt;int&gt;</th></tr>\n",
       "</thead>\n",
       "<tbody>\n",
       "\t<tr><td>[26,43]  </td><td>55</td></tr>\n",
       "\t<tr><td>(43,51.6]</td><td>45</td></tr>\n",
       "\t<tr><td>(51.6,58]</td><td>57</td></tr>\n",
       "\t<tr><td>(58,63]  </td><td>47</td></tr>\n",
       "\t<tr><td>(63,80]  </td><td>46</td></tr>\n",
       "</tbody>\n",
       "</table>\n"
      ],
      "text/latex": [
       "A data.frame: 5 × 2\n",
       "\\begin{tabular}{ll}\n",
       " intervalle & Freq\\\\\n",
       " <fct> & <int>\\\\\n",
       "\\hline\n",
       "\t {[}26,43{]}   & 55\\\\\n",
       "\t (43,51.6{]} & 45\\\\\n",
       "\t (51.6,58{]} & 57\\\\\n",
       "\t (58,63{]}   & 47\\\\\n",
       "\t (63,80{]}   & 46\\\\\n",
       "\\end{tabular}\n"
      ],
      "text/markdown": [
       "\n",
       "A data.frame: 5 × 2\n",
       "\n",
       "| intervalle &lt;fct&gt; | Freq &lt;int&gt; |\n",
       "|---|---|\n",
       "| [26,43]   | 55 |\n",
       "| (43,51.6] | 45 |\n",
       "| (51.6,58] | 57 |\n",
       "| (58,63]   | 47 |\n",
       "| (63,80]   | 46 |\n",
       "\n"
      ],
      "text/plain": [
       "  intervalle Freq\n",
       "1 [26,43]    55  \n",
       "2 (43,51.6]  45  \n",
       "3 (51.6,58]  57  \n",
       "4 (58,63]    47  \n",
       "5 (63,80]    46  "
      ]
     },
     "metadata": {},
     "output_type": "display_data"
    }
   ],
   "source": [
    "# Le tableau des frequences (si demande)\n",
    "tableau_effectifs # les intervalles sont du type [a,b]"
   ]
  },
  {
   "cell_type": "code",
   "execution_count": 50,
   "id": "d9d47f99-28d7-4a00-a170-fa010934710b",
   "metadata": {
    "tags": []
   },
   "outputs": [],
   "source": [
    "#-------------------------------------------------------------- Teste pour les variables qualitatives"
   ]
  },
  {
   "cell_type": "code",
   "execution_count": 51,
   "id": "76e6a30b-5893-4747-a786-31c658b5afcd",
   "metadata": {
    "tags": []
   },
   "outputs": [
    {
     "data": {
      "image/png": "[encoded data removed]",
      "text/plain": [
       "Plot with title \"Repartition de sexe\""
      ]
     },
     "metadata": {
      "image/png": {
       "height": 420,
       "width": 420
      }
     },
     "output_type": "display_data"
    },
    {
     "data": {
      "image/png": "[encoded data removed]",
      "text/plain": [
       "Plot with title \"Diagramme circulaire de sexe\""
      ]
     },
     "metadata": {
      "image/png": {
       "height": 420,
       "width": 420
      }
     },
     "output_type": "display_data"
    }
   ],
   "source": [
    "\n",
    "univarie(\"sexe\",tableau=TRUE,diagramme_circulaire=TRUE,diagramme_baton=TRUE) "
   ]
  },
  {
   "cell_type": "code",
   "execution_count": 52,
   "id": "883ad4be-241a-42bb-aa42-da67200d262a",
   "metadata": {
    "tags": []
   },
   "outputs": [
    {
     "data": {
      "text/html": [
       "<table class=\"dataframe\">\n",
       "<caption>A data.frame: 2 × 3</caption>\n",
       "<thead>\n",
       "\t<tr><th scope=col>Categorie</th><th scope=col>Effectif</th><th scope=col>Pourcentage</th></tr>\n",
       "\t<tr><th scope=col>&lt;fct&gt;</th><th scope=col>&lt;int&gt;</th><th scope=col>&lt;dbl&gt;</th></tr>\n",
       "</thead>\n",
       "<tbody>\n",
       "\t<tr><td>Femme</td><td>191</td><td>76.4</td></tr>\n",
       "\t<tr><td>Homme</td><td> 59</td><td>23.6</td></tr>\n",
       "</tbody>\n",
       "</table>\n"
      ],
      "text/latex": [
       "A data.frame: 2 × 3\n",
       "\\begin{tabular}{lll}\n",
       " Categorie & Effectif & Pourcentage\\\\\n",
       " <fct> & <int> & <dbl>\\\\\n",
       "\\hline\n",
       "\t Femme & 191 & 76.4\\\\\n",
       "\t Homme &  59 & 23.6\\\\\n",
       "\\end{tabular}\n"
      ],
      "text/markdown": [
       "\n",
       "A data.frame: 2 × 3\n",
       "\n",
       "| Categorie &lt;fct&gt; | Effectif &lt;int&gt; | Pourcentage &lt;dbl&gt; |\n",
       "|---|---|---|\n",
       "| Femme | 191 | 76.4 |\n",
       "| Homme |  59 | 23.6 |\n",
       "\n"
      ],
      "text/plain": [
       "  Categorie Effectif Pourcentage\n",
       "1 Femme     191      76.4       \n",
       "2 Homme      59      23.6       "
      ]
     },
     "metadata": {},
     "output_type": "display_data"
    }
   ],
   "source": [
    "# Le tableau des frequences (si demande)\n",
    "tableau_effectifs # les intervalles sont du type [a,b]"
   ]
  },
  {
   "cell_type": "markdown",
   "id": "27798cb1-65f2-4931-a4fa-90c6624cc341",
   "metadata": {},
   "source": [
    "## statistique bivarie"
   ]
  },
  {
   "cell_type": "code",
   "execution_count": 53,
   "id": "ad9ffe11-469f-44af-ae2a-9773048bd665",
   "metadata": {
    "tags": []
   },
   "outputs": [
    {
     "ename": "ERROR",
     "evalue": "Error in parse(text = x, srcfile = src): <text>:106:0: fin d'entrée inattendue\n104:   resultats<<- as.data.frame(resultats)\n105: }\n    ^\n",
     "output_type": "error",
     "traceback": [
      "Error in parse(text = x, srcfile = src): <text>:106:0: fin d'entrée inattendue\n104:   resultats<<- as.data.frame(resultats)\n105: }\n    ^\nTraceback:\n"
     ]
    }
   ],
   "source": [
    "#' Analyse bivariée entre deux variables dans un ensemble de données\n",
    "#'\n",
    "#' Cette fonction effectue une analyse bivariée entre deux variables dans un ensemble de données, y compris la création de visualisations et la réalisation de tests statistiques appropriés.\n",
    "#'\n",
    "#' @param var1 Le nom de la première variable à analyser.\n",
    "#' @param var2 Le nom de la deuxième variable à analyser.\n",
    "#' @param projet_ Le data frame contenant les données à analyser (par défaut, il est attendu que le data frame s'appelle \"projet\").\n",
    "#' @param tableau_croise Indique si un tableau croisé des fréquences doit être généré pour les variables catégorielles (par défaut : TRUE).\n",
    "#' @param teste_khi2 Indique si le test du khi2 doit être réalisé pour les variables catégorielles (par défaut : FALSE).\n",
    "#' @param nuage_point Indique si un nuage de points doit être tracé pour les variables numériques (par défaut : FALSE).\n",
    "#' @param regression_lineaire Indique si une régression linéaire doit être effectuée pour les variables numériques (par défaut : FALSE).\n",
    "#' @return Un data frame contenant les résultats des analyses bivariées, y compris les tableaux croisés des fréquences et les résultats des tests du khi2, le cas échéant.\n",
    "#' @examples\n",
    "#' # Analyse bivariée entre deux variables numériques\n",
    "#' bivarie(\"age\", \"salaire\", projet = my_data_frame, nuage_point = TRUE, regression_lineaire = TRUE)\n",
    "#'\n",
    "#' # Analyse bivariée entre deux variables catégorielles\n",
    "#' bivarie(\"genre\", \"education\", projet = my_data_frame, tableau_croise = TRUE, teste_khi2 = TRUE)\n",
    "#'\n",
    "#' @export\n",
    "bivarie <- function(var1, var2, projet_ = projet,\n",
    "                   tableau_croise=TRUE,\n",
    "                   teste_khi2=FALSE,\n",
    "                   nuage_point=FALSE,\n",
    "                   regression_lineaire=FALSE) {\n",
    "bivarie <- function(var1, var2, projet_ = projet,\n",
    "                   tableau_croise=TRUE,\n",
    "                   teste_khi2=FALSE,\n",
    "                   nuage_point=FALSE,\n",
    "                   regression_lineaire=FALSE) {\n",
    "  \n",
    "   # -----------------------------------------------------------------------------------------------------------------------\n",
    "    # Correction des valeurs abherentes (source de probleme pour la construction de graphiques (intervalles,...),etc)\n",
    "    if (is.numeric(projet_[[var1]])) {\n",
    "        # Remplacer les valeurs extrêmes par la médiane\n",
    "        q1 <- quantile(projet_[[var1]], 0.25, na.rm = TRUE)\n",
    "        q3 <- quantile(projet_[[var1]], 0.75, na.rm = TRUE)\n",
    "        iqr <- q3 - q1\n",
    "        lower_bound <- q1 - 1.5 * iqr\n",
    "        upper_bound <- q3 + 1.5 * iqr\n",
    "        non_aberrant_values <- projet_[[var1]]\n",
    "        non_aberrant_values[non_aberrant_values < lower_bound | non_aberrant_values > upper_bound] <- median(projet_[[var1]], na.rm = TRUE)\n",
    "        projet_[[var1]]<- non_aberrant_values \n",
    "    }\n",
    "     if (is.numeric(projet_[[var2]])) {\n",
    "        # Remplacer les valeurs extrêmes par la médiane\n",
    "        q1 <- quantile(projet_[[var2]], 0.25, na.rm = TRUE)\n",
    "        q3 <- quantile(projet_[[var2]], 0.75, na.rm = TRUE)\n",
    "        iqr <- q3 - q1\n",
    "        lower_bound <- q1 - 1.5 * iqr\n",
    "        upper_bound <- q3 + 1.5 * iqr\n",
    "        non_aberrant_values <- projet_[[var2]]\n",
    "        non_aberrant_values[non_aberrant_values < lower_bound | non_aberrant_values > upper_bound] <- median(projet_[[var2]], na.rm = TRUE)\n",
    "        projet_[[var2]]<- non_aberrant_values \n",
    "    }\n",
    "    \n",
    "        #  --- pour les variables categorielle il faut faire une etude cas par cas et utilisant le type factor\n",
    "\n",
    "    \n",
    "    \n",
    "    # ----------------------------------------------------------------------------------------------\n",
    "    resultats <- list()\n",
    "      # Vérification de l'existence des variables dans le data.frame\n",
    "    if (!(var1 %in% names(projet_)) || !(var2 %in% names(projet_))) {\n",
    "        stop(\"Une ou plusieurs variables spécifiées n'existent pas dans le data.frame.\")\n",
    "    }\n",
    "  # Vérification du type des variables\n",
    "  if (is.numeric(projet_[[var1]]) && is.numeric(projet_[[var2]])) {\n",
    "    # Les deux variables sont numériques\n",
    "    \n",
    "    if (nuage_point) {\n",
    "      # Nuage de points\n",
    "      plot(projet_[[var1]], projet_[[var2]], \n",
    "           main = paste(\"Nuage de points entre\", var1, \"et\", var2), \n",
    "           xlab = var1, ylab = var2)\n",
    "    }\n",
    "    \n",
    "    if (regression_lineaire) {\n",
    "      # Régression linéaire\n",
    "      lm_model <- lm(projet_[[var2]] ~ projet_[[var1]], data = projet_)\n",
    "      summary(lm_model)\n",
    "    }\n",
    "    \n",
    "  } else if (!is.numeric(projet_[[var1]]) && !is.numeric(projet_[[var2]])) {\n",
    "    # Les deux variables sont catégorielles\n",
    "    \n",
    "    if (tableau_croise) {\n",
    "      # Tableau croisé\n",
    "      contingency_table <- table(projet_[[var1]], projet_[[var2]])\n",
    "      resultats$tableau_croise <- contingency_table\n",
    "    }\n",
    "    \n",
    "    if (teste_khi2) {\n",
    "      # Test du khi2\n",
    "      chi2_test <- chisq.test(contingency_table)\n",
    "      resultats$teste_khi2 <- chi2_test\n",
    "    }\n",
    "    \n",
    "  } else {\n",
    "    # Les variables sont de types différents (une numérique et une catégorielle)\n",
    "    stop(\"Les types des variables spécifiées sont différents. Veuillez fournir deux variables du même type.\")\n",
    "  }\n",
    "  \n",
    "  resultats<<- as.data.frame(resultats)\n",
    "}"
   ]
  },
  {
   "cell_type": "code",
   "execution_count": null,
   "id": "6ecaef75-4eb3-4306-ab4a-ec4be85c3460",
   "metadata": {
    "tags": []
   },
   "outputs": [],
   "source": [
    "bivarie(\"sexe\",\"region\",nuage_point=TRUE)"
   ]
  },
  {
   "cell_type": "code",
   "execution_count": null,
   "id": "7c20f3fd-1a35-4f5e-8934-1666691d1b01",
   "metadata": {
    "tags": []
   },
   "outputs": [],
   "source": [
    "resultats"
   ]
  },
  {
   "cell_type": "code",
   "execution_count": null,
   "id": "717da1a7-08c3-4b83-9d81-8062779c2dff",
   "metadata": {
    "tags": []
   },
   "outputs": [],
   "source": [
    "bivarie(\"q24\",\"q26\",nuage_point=TRUE)"
   ]
  },
  {
   "cell_type": "code",
   "execution_count": null,
   "id": "7cffc049-8a29-4368-a33e-7dc1d41634e4",
   "metadata": {
    "tags": []
   },
   "outputs": [],
   "source": [
    "resultats"
   ]
  },
  {
   "cell_type": "code",
   "execution_count": null,
   "id": "85784aaf-2799-4d6e-a243-d64ece93789c",
   "metadata": {
    "tags": []
   },
   "outputs": [],
   "source": [
    "# Tous fonctionne bien passons a l'analyse"
   ]
  },
  {
   "cell_type": "markdown",
   "id": "de1d47f5-ffca-4d7b-bd15-6d83049530fa",
   "metadata": {},
   "source": [
    "### Analyse par filiere"
   ]
  },
  {
   "cell_type": "code",
   "execution_count": null,
   "id": "6e8b5dc5-a0bf-42ce-a7a1-03579a61a64d",
   "metadata": {
    "tags": []
   },
   "outputs": [],
   "source": [
    "# on doit convertir filiere_1 en str (definition de bivarie()oblige)\n",
    "projet$filiere_1 <- as.character(projet$filiere_1)\n",
    "\n",
    "bivarie(\"filiere_1\",\"region\",nuage_point=TRUE) #pas de nuage de point comme on pouvais s'y attendre"
   ]
  },
  {
   "cell_type": "code",
   "execution_count": null,
   "id": "d8825198-dccb-412c-af71-eaeb7d2e509e",
   "metadata": {
    "tags": []
   },
   "outputs": [],
   "source": [
    "resultats"
   ]
  },
  {
   "cell_type": "code",
   "execution_count": null,
   "id": "cf5afa69-cd1d-4b4c-a1e4-b9a4af6e7da8",
   "metadata": {
    "tags": []
   },
   "outputs": [],
   "source": [
    "# on remarque que la region de ziguinchor et saint-louis sont les champions pour la filiere arachide"
   ]
  },
  {
   "cell_type": "code",
   "execution_count": null,
   "id": "cb36bd2b-84ea-4099-8d52-cd64c8741207",
   "metadata": {
    "tags": []
   },
   "outputs": [],
   "source": [
    "# regardons la variable today\n",
    "\n",
    "univarie(\"today\",tableau=TRUE,diagramme_circulaire=TRUE,diagramme_baton=TRUE) "
   ]
  },
  {
   "cell_type": "code",
   "execution_count": null,
   "id": "007d3a1c-5e7e-462c-912f-04f10c24ac3a",
   "metadata": {
    "tags": []
   },
   "outputs": [],
   "source": [
    "# la pluspart des donne dates de 2021"
   ]
  },
  {
   "cell_type": "code",
   "execution_count": null,
   "id": "034dbdfb-0aa5-41fb-a964-744b85c69203",
   "metadata": {
    "tags": []
   },
   "outputs": [],
   "source": [
    "# on doit convertir q25 en str (definition de bivarie()oblige)\n",
    "projet$q25 <- as.character(projet$q25)\n",
    "bivarie(\"filiere_1\",\"q25\",nuage_point=TRUE)#La population n'est pas representative donc pas de teste du khi-2"
   ]
  },
  {
   "cell_type": "code",
   "execution_count": null,
   "id": "be611720-aaad-45b0-9f9b-84264f328893",
   "metadata": {
    "tags": []
   },
   "outputs": [],
   "source": [
    "resultats"
   ]
  },
  {
   "cell_type": "code",
   "execution_count": null,
   "id": "8569ae29-6abb-4131-906a-790dac126a40",
   "metadata": {
    "tags": []
   },
   "outputs": [],
   "source": [
    "# Dans la filiere arachide ,plus le niveau d'instruction augmente moins on trouve d'effectif"
   ]
  },
  {
   "cell_type": "code",
   "execution_count": null,
   "id": "ed358f35-1615-409b-b9c2-1ae655d3bea6",
   "metadata": {
    "tags": []
   },
   "outputs": [],
   "source": [
    "# regardons la filiere mangue"
   ]
  },
  {
   "cell_type": "code",
   "execution_count": null,
   "id": "33856870-a031-4881-afe4-96bcc1554d7a",
   "metadata": {
    "tags": []
   },
   "outputs": [],
   "source": [
    "bivarie(\"filiere_2\",\"q24a_3\",nuage_point=TRUE) #q24== age"
   ]
  },
  {
   "cell_type": "code",
   "execution_count": null,
   "id": "a5fbf9ab-9cbd-46ab-a5ba-b39e285d3eb9",
   "metadata": {},
   "outputs": [],
   "source": []
  }
 ],
 "metadata": {
  "kernelspec": {
   "display_name": "R",
   "language": "R",
   "name": "ir"
  },
  "language_info": {
   "codemirror_mode": "r",
   "file_extension": ".r",
   "mimetype": "text/x-r-source",
   "name": "R",
   "pygments_lexer": "r",
   "version": "4.3.2"
  }
 },
 "nbformat": 4,
 "nbformat_minor": 5
}
